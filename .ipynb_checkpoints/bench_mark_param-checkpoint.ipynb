{
 "cells": [
  {
   "cell_type": "code",
   "execution_count": 3,
   "metadata": {},
   "outputs": [],
   "source": [
    "import pandas as pd\n",
    "import numpy as np\n",
    "from sklearn import preprocessing\n",
    "import matplotlib.pyplot as plt \n",
    "plt.rc(\"font\", size=14)\n",
    "from sklearn.linear_model import LogisticRegression\n",
    "import seaborn as sns\n",
    "sns.set(style=\"white\")\n",
    "sns.set(style=\"whitegrid\", color_codes=True)\n",
    "from sklearn.model_selection import train_test_split\n",
    "import tensorflow as tf\n",
    "import warnings\n",
    "warnings.filterwarnings(\"ignore\")\n",
    "from imblearn.over_sampling import SMOTE"
   ]
  },
  {
   "cell_type": "code",
   "execution_count": 2,
   "metadata": {},
   "outputs": [
    {
     "name": "stderr",
     "output_type": "stream",
     "text": [
      "Using TensorFlow backend.\n"
     ]
    }
   ],
   "source": [
    "palu=pd.read_excel('C:\\\\Users\\\\ASUS\\\\Documents\\\\these\\\\code_these-master\\\\palu_impute001.xlsx')\n",
    "paluu=pd.DataFrame(palu, columns = ['PPOIDS', 'TEMPERATURE', 'S_M8_APPETIT', 'S_FATIGUE', 'S_ARTHRALGI',\n",
    "                                    'S_T_DIGESTIF', 'S_VERTIGE', 'S_FRISSON', 'S_MYALGIE', 'S_DABDO', \n",
    "                                    'S_VOMISS', 'S_NAUSEE', 'S_CEPHALE', 'S_FIEVRE','TDR'])\n",
    "\n",
    "# Nous séparons notre variable cible en deux parties. Une partie pour entrainer y_train et une partie pour tester y_test\n",
    "X = paluu\n",
    "y = palu['Diagnostic']\n",
    "X1_train, MX_test, y1_train, My_test = train_test_split(X, y, random_state=0)\n",
    "\n",
    "#Suréchantillonnage avec l'algorithme SMOTE\n",
    "X1 = paluu\n",
    "y1 =palu['Diagnostic']\n",
    "y1= pd.DataFrame(y1)\n",
    "\n",
    "\n",
    "Re= SMOTE(random_state=0)\n",
    "#X1_train, X1_test, y1_train, y1_test = train_test_split(X1, y1, test_size=0.3, random_state=0)\n",
    "columns = X1_train.columns\n",
    "Re_data_X1,Re_data_y1=Re.fit_sample(X1_train, y1_train)\n",
    "Re_data_X1 = pd.DataFrame(data=Re_data_X1 ,columns= columns)"
   ]
  },
  {
   "cell_type": "code",
   "execution_count": 4,
   "metadata": {},
   "outputs": [],
   "source": [
    "#import pandas_profiling as pp\n",
    "#pp.ProfileReport(paluu)"
   ]
  },
  {
   "cell_type": "code",
   "execution_count": 6,
   "metadata": {},
   "outputs": [],
   "source": [
    "#import pandas_profiling as pp"
   ]
  },
  {
   "cell_type": "code",
   "execution_count": 5,
   "metadata": {},
   "outputs": [],
   "source": [
    "#pp.ProfileReport(palu)"
   ]
  },
  {
   "cell_type": "code",
   "execution_count": 45,
   "metadata": {},
   "outputs": [],
   "source": [
    "\n",
    "# Nous séparons notre jeu données palu en deux parties. Une partie pour entrainer X_train et un partie pour tester X_test\n",
    "# Nous séparons notre variable cible en deux parties. Une partie pour entrainer y_train et une partie pour tester y_test\n",
    "X_train =Re_data_X1\n",
    "y_train=Re_data_y1\n",
    "#y_train= pd.DataFrame(Re_data_y1)"
   ]
  },
  {
   "cell_type": "code",
   "execution_count": 62,
   "metadata": {},
   "outputs": [
    {
     "data": {
      "text/plain": [
       "(30698, 15)"
      ]
     },
     "execution_count": 62,
     "metadata": {},
     "output_type": "execute_result"
    }
   ],
   "source": [
    "X_train.shape"
   ]
  },
  {
   "cell_type": "code",
   "execution_count": 68,
   "metadata": {},
   "outputs": [
    {
     "name": "stdout",
     "output_type": "stream",
     "text": [
      "[0.9899449819768544, 0.9895655473344717, 0.970973249857712, 0.9698349459305634, 0.9675583380762663, 0.9671789034338835]\n"
     ]
    }
   ],
   "source": [
    "# List of values to try for max_depth: Tuning the Depth of a Tree\n",
    "# Finding the optimal value formax_depth is one way way to tune your model.\n",
    "# The code below outputs the accuracy for decision trees with different values for max_depth.\n",
    "from sklearn import metrics\n",
    "epochs = [1,5,10, 15, 20,25]# List to store the average RMSE for each value of max_depth:\n",
    "from sklearn import metrics\n",
    "from sklearn.tree import DecisionTreeClassifier\n",
    "accuracy = []\n",
    "for depth in epochs:\n",
    "    clf = DecisionTreeClassifier(max_depth = depth,   random_state = 0)\n",
    "    clf.fit(X_train, y_train) \n",
    "    y_pred1=clf.predict(MX_test)\n",
    "    score = metrics.accuracy_score(My_test, y_pred1)\n",
    "    accuracy.append(score)\n",
    "print(accuracy)"
   ]
  },
  {
   "cell_type": "code",
   "execution_count": 60,
   "metadata": {},
   "outputs": [
    {
     "data": {
      "text/plain": [
       "DecisionTreeClassifier(class_weight=None, criterion='gini', max_depth=19,\n",
       "                       max_features=None, max_leaf_nodes=None,\n",
       "                       min_impurity_decrease=0.0, min_impurity_split=None,\n",
       "                       min_samples_leaf=1, min_samples_split=2,\n",
       "                       min_weight_fraction_leaf=0.0, presort=False,\n",
       "                       random_state=0, splitter='best')"
      ]
     },
     "execution_count": 60,
     "metadata": {},
     "output_type": "execute_result"
    }
   ],
   "source": [
    "clf"
   ]
  },
  {
   "cell_type": "code",
   "execution_count": 51,
   "metadata": {},
   "outputs": [],
   "source": [
    "df = pd.DataFrame(list(zip(max_depth_range, accuracy)), columns=['max_depth_range', 'accuracy'])"
   ]
  },
  {
   "cell_type": "code",
   "execution_count": 53,
   "metadata": {},
   "outputs": [
    {
     "name": "stdout",
     "output_type": "stream",
     "text": [
      "[0.9702143805729463, 0.972301271106052, 0.9717321191424777, 0.9713526845000948, 0.9715424018212863, 0.9717321191424777, 0.9715424018212863]\n"
     ]
    }
   ],
   "source": [
    "from sklearn.ensemble import RandomForestClassifier\n",
    "#Create a Gaussian Classifier\n",
    "rf=RandomForestClassifier(n_estimators=100)\n",
    "#Train the model using the training sets y_pred=clf.predict(X_test)\n",
    "rf.fit(X_train,y_train)\n",
    "y_pred2=rf.predict(MX_test)\n",
    "epochs = [10,50,100, 200, 300,400, 500]# List to store the average RMSE for each value of max_depth:\n",
    "accuracy = []\n",
    "for n in epochs:\n",
    "    rf=RandomForestClassifier(n_estimators= n)\n",
    "    #Train the model using the training sets y_pred=clf.predict(X_test)\n",
    "    rf.fit(X_train,y_train)\n",
    "    y_pred2=rf.predict(MX_test)\n",
    "    score = metrics.accuracy_score(My_test, y_pred2)\n",
    "    accuracy.append(score)\n",
    "print(accuracy)"
   ]
  },
  {
   "cell_type": "code",
   "execution_count": 61,
   "metadata": {},
   "outputs": [
    {
     "data": {
      "text/plain": [
       "RandomForestClassifier(bootstrap=True, class_weight=None, criterion='gini',\n",
       "                       max_depth=None, max_features='auto', max_leaf_nodes=None,\n",
       "                       min_impurity_decrease=0.0, min_impurity_split=None,\n",
       "                       min_samples_leaf=1, min_samples_split=2,\n",
       "                       min_weight_fraction_leaf=0.0, n_estimators=500,\n",
       "                       n_jobs=None, oob_score=False, random_state=None,\n",
       "                       verbose=0, warm_start=False)"
      ]
     },
     "execution_count": 61,
     "metadata": {},
     "output_type": "execute_result"
    }
   ],
   "source": [
    "rf"
   ]
  },
  {
   "cell_type": "code",
   "execution_count": 54,
   "metadata": {},
   "outputs": [],
   "source": [
    "from sklearn.metrics import confusion_matrix\n",
    "from sklearn.metrics import classification_report\n",
    "from sklearn import metrics\n",
    "from sklearn.neural_network import MLPClassifier\n",
    "from sklearn.preprocessing import StandardScaler\n",
    "import random\n",
    "random.seed(1000)"
   ]
  },
  {
   "cell_type": "code",
   "execution_count": 55,
   "metadata": {},
   "outputs": [],
   "source": [
    "mlp = MLPClassifier(solver='rmsprop')"
   ]
  },
  {
   "cell_type": "code",
   "execution_count": 56,
   "metadata": {},
   "outputs": [
    {
     "data": {
      "text/plain": [
       "MLPClassifier(activation='relu', alpha=0.0001, batch_size='auto', beta_1=0.9,\n",
       "              beta_2=0.999, early_stopping=False, epsilon=1e-08,\n",
       "              hidden_layer_sizes=(100,), learning_rate='constant',\n",
       "              learning_rate_init=0.001, max_iter=200, momentum=0.9,\n",
       "              n_iter_no_change=10, nesterovs_momentum=True, power_t=0.5,\n",
       "              random_state=None, shuffle=True, solver='rmsprop', tol=0.0001,\n",
       "              validation_fraction=0.1, verbose=False, warm_start=False)"
      ]
     },
     "execution_count": 56,
     "metadata": {},
     "output_type": "execute_result"
    }
   ],
   "source": [
    "mlp"
   ]
  },
  {
   "cell_type": "code",
   "execution_count": 57,
   "metadata": {},
   "outputs": [],
   "source": [
    "scaler = StandardScaler()\n",
    "scaler.fit(X_train)\n",
    "X1_train = scaler.transform(X_train)\n",
    "X1_test = scaler.transform(MX_test)\n",
    "mlp = MLPClassifier(hidden_layer_sizes=(15,15,15),max_iter=10000)\n",
    "mlp.fit(X1_train,y_train)\n",
    "predictions = mlp.predict(X1_test)"
   ]
  },
  {
   "cell_type": "code",
   "execution_count": 66,
   "metadata": {},
   "outputs": [
    {
     "name": "stdout",
     "output_type": "stream",
     "text": [
      "[0.02864731549990514, 0.9138683361790931, 0.9800796812749004, 0.9829254410927718, 0.9345475241889585, 0.9833048757351546]\n"
     ]
    }
   ],
   "source": [
    "epochs = [1,5,10, 15, 20,25]# List to store the average RMSE for each value of max_depth:\n",
    "scaler = StandardScaler()\n",
    "scaler.fit(X_train)\n",
    "X1_train = scaler.transform(X_train)\n",
    "X1_test = scaler.transform(MX_test)\n",
    "accuracy = []\n",
    "for n in epochs:\n",
    "    #clf = DecisionTreeClassifier(max_depth = depth,   random_state = 0)\n",
    "    mlp = MLPClassifier(hidden_layer_sizes=(15,15,n),max_iter=200, solver='lbfgs')\n",
    "    #clf.fit(X_train, y_train) \n",
    "    mlp.fit(X1_train,y_train)\n",
    "    #y_pred1=clf.predict(MX_test)\n",
    "    predictions = mlp.predict(X1_test)\n",
    "    score = metrics.accuracy_score(My_test, predictions)\n",
    "    accuracy.append(score)\n",
    "print(accuracy)"
   ]
  },
  {
   "cell_type": "code",
   "execution_count": null,
   "metadata": {},
   "outputs": [],
   "source": []
  }
 ],
 "metadata": {
  "kernelspec": {
   "display_name": "Python 3",
   "language": "python",
   "name": "python3"
  },
  "language_info": {
   "codemirror_mode": {
    "name": "ipython",
    "version": 3
   },
   "file_extension": ".py",
   "mimetype": "text/x-python",
   "name": "python",
   "nbconvert_exporter": "python",
   "pygments_lexer": "ipython3",
   "version": "3.7.4"
  }
 },
 "nbformat": 4,
 "nbformat_minor": 2
}

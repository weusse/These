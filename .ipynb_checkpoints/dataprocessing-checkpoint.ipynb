{
 "cells": [
  {
   "cell_type": "code",
   "execution_count": 1,
   "metadata": {},
   "outputs": [
    {
     "data": {
      "text/plain": [
       "'C:\\\\Users\\\\ASUS\\\\Documents\\\\these\\\\code_these-master'"
      ]
     },
     "execution_count": 1,
     "metadata": {},
     "output_type": "execute_result"
    }
   ],
   "source": [
    "pwd"
   ]
  },
  {
   "cell_type": "code",
   "execution_count": null,
   "metadata": {},
   "outputs": [],
   "source": [
    "import pandas as pd\n",
    "import numpy as np\n",
    "\n",
    "\n",
    "class DataProcessing:\n",
    "    def __init__(self, file, train):\n",
    "        self.file = pd.read_csv(file)\n",
    "        self.train = train\n",
    "        self.i = int(self.train * len(self.file))\n",
    "        self.stock_train = self.file[0: self.i]\n",
    "        self.stock_test = self.file[self.i:]\n",
    "        self.input_train = []\n",
    "        self.output_train = []\n",
    "        self.input_test = []\n",
    "        self.output_test = []\n",
    "\n",
    "    def gen_train(self, seq_len):\n",
    "        \"\"\"\n",
    "        Generates training data\n",
    "        :param seq_len: length of window\n",
    "        :return: X_train and Y_train\n",
    "        \"\"\"\n",
    "        for i in range((len(self.stock_train)//seq_len)*seq_len - seq_len - 1):\n",
    "            x = np.array(self.stock_train.iloc[i: i + seq_len, 1])\n",
    "            y = np.array([self.stock_train.iloc[i + seq_len + 1, 1]], np.float64)\n",
    "            self.input_train.append(x)\n",
    "            self.output_train.append(y)\n",
    "        self.X_train = np.array(self.input_train)\n",
    "        self.Y_train = np.array(self.output_train)\n",
    "\n",
    "    def gen_test(self, seq_len):\n",
    "        \"\"\"\n",
    "        Generates test data\n",
    "        :param seq_len: Length of window\n",
    "        :return: X_test and Y_test\n",
    "        \"\"\"\n",
    "        for i in range((len(self.stock_test)//seq_len)*seq_len - seq_len - 1):\n",
    "            x = np.array(self.stock_test.iloc[i: i + seq_len, 1])\n",
    "            y = np.array([self.stock_test.iloc[i + seq_len + 1, 1]], np.float64)\n",
    "            self.input_test.append(x)\n",
    "            self.output_test.append(y)\n",
    "        self.X_test = np.array(self.input_test)\n",
    "        self.Y_test = np.array(self.output_test)"
   ]
  }
 ],
 "metadata": {
  "kernelspec": {
   "display_name": "Python 3",
   "language": "python",
   "name": "python3"
  },
  "language_info": {
   "codemirror_mode": {
    "name": "ipython",
    "version": 3
   },
   "file_extension": ".py",
   "mimetype": "text/x-python",
   "name": "python",
   "nbconvert_exporter": "python",
   "pygments_lexer": "ipython3",
   "version": "3.7.4"
  }
 },
 "nbformat": 4,
 "nbformat_minor": 2
}

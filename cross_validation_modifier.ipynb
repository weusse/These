{
 "cells": [
  {
   "cell_type": "code",
   "execution_count": 1,
   "metadata": {},
   "outputs": [],
   "source": [
    "import numpy as np\n",
    "import matplotlib.pyplot as plt\n",
    "from sklearn.model_selection import GridSearchCV\n",
    "from sklearn.neighbors import KNeighborsClassifier\n",
    "from sklearn.model_selection import cross_val_score\n",
    "from sklearn.model_selection import train_test_split\n",
    "from sklearn.model_selection import validation_curve\n",
    "from sklearn.model_selection import GridSearchCV\n",
    "from sklearn.metrics import confusion_matrix\n",
    "from sklearn.model_selection import learning_curve\n",
    "import pandas as pd\n",
    "import numpy as np\n",
    "from sklearn import preprocessing\n",
    "import matplotlib.pyplot as plt \n",
    "plt.rc(\"font\", size=14)\n",
    "from sklearn.linear_model import LogisticRegression\n",
    "import seaborn as sns\n",
    "sns.set(style=\"white\")\n",
    "sns.set(style=\"whitegrid\", color_codes=True)\n",
    "from sklearn.model_selection import train_test_split\n",
    "#import tensorflow as tf\n",
    "import warnings\n",
    "from sklearn.metrics import classification_report\n",
    "warnings.filterwarnings(\"ignore\")\n",
    "from imblearn.over_sampling import SMOTE\n",
    "from sklearn.model_selection import KFold, LeaveOneOut,StratifiedKFold, ShuffleSplit\n",
    "import random"
   ]
  },
  {
   "cell_type": "code",
   "execution_count": 2,
   "metadata": {},
   "outputs": [],
   "source": [
    "# Chargement du jeu de données\n",
    "palu=pd.read_excel('C:\\\\Users\\\\ASUS\\\\Documents\\\\these\\\\code_these-master\\\\palu_impute001.xlsx')\n",
    "# Chargement du jeu de données\n",
    "palu1=pd.read_excel('C:\\\\Users\\\\ASUS\\\\Documents\\\\these\\\\code_these-master\\\\MORBIDITE.xls')\n",
    "\n",
    "# Selection des features du paludisme\n",
    "paluu=pd.DataFrame(palu, columns = [  'S_M8_APPETIT', 'S_FATIGUE', 'S_ARTHRALGI',\n",
    "                                    'S_T_DIGESTIF', 'S_VERTIGE', 'S_FRISSON', 'S_MYALGIE', 'S_DABDO', \n",
    "                                    'S_VOMISS', 'S_NAUSEE', 'S_CEPHALE', 'S_FIEVRE','Diagnostic'])\n",
    "\n",
    "\n",
    "# Selection des features du paludisme\n",
    "paluu1=pd.DataFrame(palu1, columns = [  'S_M8_APPETIT', 'S_FATIGUE', 'S_ARTHRALGI',\n",
    "                                    'S_T_DIGESTIF', 'S_VERTIGE', 'S_FRISSON', 'S_MYALGIE', 'S_DABDO', \n",
    "                                    'S_VOMISS', 'S_NAUSEE', 'S_CEPHALE', 'S_FIEVRE','Diagnostic'])\n",
    "\n"
   ]
  },
  {
   "cell_type": "code",
   "execution_count": 3,
   "metadata": {},
   "outputs": [],
   "source": [
    "y = palu['Diagnostic']\n",
    "X1_train, MX_test, y1_train, My_test = train_test_split(paluu, y,test_size=0.1 ,random_state=0)"
   ]
  },
  {
   "cell_type": "code",
   "execution_count": 4,
   "metadata": {},
   "outputs": [],
   "source": [
    "train1_max=X1_train[X1_train['Diagnostic']==0]  # est le jeu de donn\"es qui contient la classe majoritaire\n",
    "train2_min=X1_train[X1_train['Diagnostic']==1]      # est le jeu de donn\"es qui contient la classe miniritaire\n",
    "y_train1_max=y1_train[y1_train==0] \n",
    "y_train2_min=y1_train[y1_train==1]\n",
    "train2=train2_min.iloc[:,0:12] \n",
    "train1_sample=train1_max.sample(train2.shape[0])\n",
    "train1_sample=train1_sample.iloc[:,0:12]"
   ]
  },
  {
   "cell_type": "code",
   "execution_count": 5,
   "metadata": {},
   "outputs": [
    {
     "name": "stdout",
     "output_type": "stream",
     "text": [
      "shape de train1_max (18409, 13)\n",
      "shape de train2_min (565, 13)\n",
      "shape de y_train1_max (18409,)\n",
      "shape de y_train2_min (565,)\n"
     ]
    }
   ],
   "source": [
    "print('shape de train1_max',   train1_max.shape)\n",
    "print('shape de train2_min',   train2_min.shape)\n",
    "print('shape de y_train1_max',   y_train1_max.shape)\n",
    "print('shape de y_train2_min',   y_train2_min.shape)"
   ]
  },
  {
   "cell_type": "code",
   "execution_count": 6,
   "metadata": {},
   "outputs": [],
   "source": [
    "# n1 est la taille de chaque fold\n",
    "def sample(X):    \n",
    "    n1=int(X.shape[0]/3)\n",
    "    indices = np.random.permutation(X.shape[0])\n",
    "    fold1_id, fold2_id, fold3_id = indices[:n1], indices[n1:2*n1],indices[2*n1+1:]\n",
    "    fold1= train2.iloc[fold1_id,:]\n",
    "    fold2= train2.iloc[fold2_id,:]\n",
    "    fold3= train2.iloc[fold3_id,:]\n",
    "    return fold1,fold2,fold3"
   ]
  },
  {
   "cell_type": "code",
   "execution_count": 7,
   "metadata": {},
   "outputs": [],
   "source": [
    "fold1,fold2,fold3=sample(train2)"
   ]
  },
  {
   "cell_type": "code",
   "execution_count": 8,
   "metadata": {},
   "outputs": [],
   "source": [
    "def palu_append(X,Y):\n",
    "    fold1,fold2,fold3=sample(X)\n",
    "    tfold1,tfold2,tfold3=sample(Y)\n",
    "    cv1=tfold1.append(fold1)\n",
    "    cv2=tfold2.append(fold2)\n",
    "    cv3=tfold3.append(fold3)\n",
    "    return cv1, cv2, cv3\n"
   ]
  },
  {
   "cell_type": "code",
   "execution_count": 9,
   "metadata": {},
   "outputs": [],
   "source": [
    "cv1,cv2,cv3=palu_append(train2,train1_sample)"
   ]
  },
  {
   "cell_type": "code",
   "execution_count": 10,
   "metadata": {},
   "outputs": [],
   "source": [
    "l=[cv1,cv2,cv3]\n",
    "l1=l\n",
    "test=l1[0]\n",
    "l1.remove(l1[0])\n",
    "train=l1[0].append(l1[1])"
   ]
  },
  {
   "cell_type": "code",
   "execution_count": 11,
   "metadata": {},
   "outputs": [
    {
     "data": {
      "text/plain": [
       "2"
      ]
     },
     "execution_count": 11,
     "metadata": {},
     "output_type": "execute_result"
    }
   ],
   "source": [
    "len(l)"
   ]
  },
  {
   "cell_type": "code",
   "execution_count": 16,
   "metadata": {},
   "outputs": [],
   "source": [
    "def palu_valid(X,Y,Z):\n",
    "    l=[X,Y,Z]\n",
    "    for i in range(3):\n",
    "        l1=l\n",
    "        test=l1[i]\n",
    "        print(test)\n",
    "        l1.remove(l[i])\n",
    "        train=l1[0].append(l1[1])\n",
    "    return train,test"
   ]
  },
  {
   "cell_type": "code",
   "execution_count": 17,
   "metadata": {},
   "outputs": [
    {
     "name": "stdout",
     "output_type": "stream",
     "text": [
      "       S_M8_APPETIT  S_FATIGUE  S_ARTHRALGI  S_T_DIGESTIF  S_VERTIGE  \\\n",
      "3704              0          0            0             0          0   \n",
      "13926             0          0            0             0          0   \n",
      "8225              0          0            0             0          0   \n",
      "67                0          0            0             0          0   \n",
      "5437              0          0            0             0          0   \n",
      "...             ...        ...          ...           ...        ...   \n",
      "10238             0          0            0             0          0   \n",
      "14436             0          0            0             0          0   \n",
      "11710             0          0            0             0          0   \n",
      "17971             0          0            0             0          0   \n",
      "67                0          0            0             0          0   \n",
      "\n",
      "       S_FRISSON  S_MYALGIE  S_DABDO  S_VOMISS  S_NAUSEE  S_CEPHALE  S_FIEVRE  \n",
      "3704           0          0        0         1         0          1         0  \n",
      "13926          0          0        0         1         0          1         1  \n",
      "8225           0          0        0         0         0          0         0  \n",
      "67             0          0        0         1         0          0         1  \n",
      "5437           0          0        0         0         0          1         1  \n",
      "...          ...        ...      ...       ...       ...        ...       ...  \n",
      "10238          0          0        0         0         0          1         0  \n",
      "14436          1          0        0         0         0          0         0  \n",
      "11710          0          0        0         0         0          1         1  \n",
      "17971          0          0        0         0         0          1         0  \n",
      "67             0          0        0         1         0          0         1  \n",
      "\n",
      "[376 rows x 12 columns]\n",
      "       S_M8_APPETIT  S_FATIGUE  S_ARTHRALGI  S_T_DIGESTIF  S_VERTIGE  \\\n",
      "10859             0          0            0             0          0   \n",
      "6612              0          0            0             0          0   \n",
      "15662             0          0            0             0          0   \n",
      "12827             0          0            0             0          0   \n",
      "108               0          0            0             0          0   \n",
      "...             ...        ...          ...           ...        ...   \n",
      "15648             0          0            0             0          0   \n",
      "14128             0          0            0             0          0   \n",
      "13502             0          0            0             0          0   \n",
      "16522             0          0            0             0          0   \n",
      "11965             0          0            0             0          0   \n",
      "\n",
      "       S_FRISSON  S_MYALGIE  S_DABDO  S_VOMISS  S_NAUSEE  S_CEPHALE  S_FIEVRE  \n",
      "10859          0          0        0         1         0          1         0  \n",
      "6612           0          0        0         1         0          1         0  \n",
      "15662          0          0        0         0         0          1         0  \n",
      "12827          0          0        0         0         0          1         1  \n",
      "108            0          0        0         0         0          0         1  \n",
      "...          ...        ...      ...       ...       ...        ...       ...  \n",
      "15648          0          0        0         0         0          0         0  \n",
      "14128          0          0        0         0         0          0         0  \n",
      "13502          1          0        0         0         0          0         1  \n",
      "16522          0          0        0         0         0          1         1  \n",
      "11965          0          0        0         0         0          0         0  \n",
      "\n",
      "[376 rows x 12 columns]\n",
      "       S_M8_APPETIT  S_FATIGUE  S_ARTHRALGI  S_T_DIGESTIF  S_VERTIGE  \\\n",
      "3780              0          0            0             0          0   \n",
      "10485             0          0            0             0          0   \n",
      "7041              0          0            0             0          0   \n",
      "13324             0          0            0             0          0   \n",
      "13385             0          0            0             0          0   \n",
      "...             ...        ...          ...           ...        ...   \n",
      "2236              0          0            0             0          0   \n",
      "10325             0          0            0             0          0   \n",
      "1403              0          0            0             0          0   \n",
      "18712             0          0            0             0          0   \n",
      "17012             0          0            0             0          0   \n",
      "\n",
      "       S_FRISSON  S_MYALGIE  S_DABDO  S_VOMISS  S_NAUSEE  S_CEPHALE  S_FIEVRE  \n",
      "3780           0          0        0         1         0          1         1  \n",
      "10485          0          0        0         1         0          1         1  \n",
      "7041           1          0        0         0         0          0         0  \n",
      "13324          0          0        0         1         0          1         1  \n",
      "13385          0          0        0         0         0          0         0  \n",
      "...          ...        ...      ...       ...       ...        ...       ...  \n",
      "2236           0          0        0         0         0          1         1  \n",
      "10325          0          0        0         1         0          1         0  \n",
      "1403           0          0        0         0         0          1         1  \n",
      "18712          0          0        0         0         0          0         1  \n",
      "17012          0          0        0         0         0          1         1  \n",
      "\n",
      "[376 rows x 12 columns]\n"
     ]
    },
    {
     "data": {
      "text/plain": [
       "(       S_M8_APPETIT  S_FATIGUE  S_ARTHRALGI  S_T_DIGESTIF  S_VERTIGE  \\\n",
       " 3704              0          0            0             0          0   \n",
       " 13926             0          0            0             0          0   \n",
       " 8225              0          0            0             0          0   \n",
       " 67                0          0            0             0          0   \n",
       " 5437              0          0            0             0          0   \n",
       " ...             ...        ...          ...           ...        ...   \n",
       " 15648             0          0            0             0          0   \n",
       " 14128             0          0            0             0          0   \n",
       " 13502             0          0            0             0          0   \n",
       " 16522             0          0            0             0          0   \n",
       " 11965             0          0            0             0          0   \n",
       " \n",
       "        S_FRISSON  S_MYALGIE  S_DABDO  S_VOMISS  S_NAUSEE  S_CEPHALE  S_FIEVRE  \n",
       " 3704           0          0        0         1         0          1         0  \n",
       " 13926          0          0        0         1         0          1         1  \n",
       " 8225           0          0        0         0         0          0         0  \n",
       " 67             0          0        0         1         0          0         1  \n",
       " 5437           0          0        0         0         0          1         1  \n",
       " ...          ...        ...      ...       ...       ...        ...       ...  \n",
       " 15648          0          0        0         0         0          0         0  \n",
       " 14128          0          0        0         0         0          0         0  \n",
       " 13502          1          0        0         0         0          0         1  \n",
       " 16522          0          0        0         0         0          1         1  \n",
       " 11965          0          0        0         0         0          0         0  \n",
       " \n",
       " [752 rows x 12 columns],\n",
       "        S_M8_APPETIT  S_FATIGUE  S_ARTHRALGI  S_T_DIGESTIF  S_VERTIGE  \\\n",
       " 3780              0          0            0             0          0   \n",
       " 10485             0          0            0             0          0   \n",
       " 7041              0          0            0             0          0   \n",
       " 13324             0          0            0             0          0   \n",
       " 13385             0          0            0             0          0   \n",
       " ...             ...        ...          ...           ...        ...   \n",
       " 2236              0          0            0             0          0   \n",
       " 10325             0          0            0             0          0   \n",
       " 1403              0          0            0             0          0   \n",
       " 18712             0          0            0             0          0   \n",
       " 17012             0          0            0             0          0   \n",
       " \n",
       "        S_FRISSON  S_MYALGIE  S_DABDO  S_VOMISS  S_NAUSEE  S_CEPHALE  S_FIEVRE  \n",
       " 3780           0          0        0         1         0          1         1  \n",
       " 10485          0          0        0         1         0          1         1  \n",
       " 7041           1          0        0         0         0          0         0  \n",
       " 13324          0          0        0         1         0          1         1  \n",
       " 13385          0          0        0         0         0          0         0  \n",
       " ...          ...        ...      ...       ...       ...        ...       ...  \n",
       " 2236           0          0        0         0         0          1         1  \n",
       " 10325          0          0        0         1         0          1         0  \n",
       " 1403           0          0        0         0         0          1         1  \n",
       " 18712          0          0        0         0         0          0         1  \n",
       " 17012          0          0        0         0         0          1         1  \n",
       " \n",
       " [376 rows x 12 columns])"
      ]
     },
     "execution_count": 17,
     "metadata": {},
     "output_type": "execute_result"
    }
   ],
   "source": [
    "palu_valid(cv1,cv2,cv3)"
   ]
  },
  {
   "cell_type": "code",
   "execution_count": null,
   "metadata": {},
   "outputs": [],
   "source": [
    "for i in range(len(l)):\n",
    "    print(i)"
   ]
  },
  {
   "cell_type": "code",
   "execution_count": null,
   "metadata": {},
   "outputs": [],
   "source": [
    "# on choisi k= 5 folds pour la ccross validaion\n",
    "# n1 est la taille de chaque fold\n",
    "def function(X)\n",
    "    train1_max=X1_train[X1_train['Diagnostic']==0]  # est le jeu de donn\"es qui contient la classe majoritaire\n",
    "    train2_min=X1_train[X1_train['Diagnostic']==1]      # est le jeu de donn\"es qui contient la classe miniritaire\n",
    "    y_train1_max=y1_train[y1_train==0] \n",
    "    y_train2_min=y1_train[y1_train==1]\n",
    "    k=3\n",
    "    train2=train2_min.iloc[:,0:12]  \n",
    "    n1=int(train2_min.shape[0]/k)\n",
    "\n",
    "    indices = np.random.permutation(train2.shape[0])\n",
    "    fold1_id, fold2_id, fold3_id = indices[:n1], indices[n1:2*n1],indices[2*n1+1:]\n",
    "    fold1= train2.iloc[fold1_id,:]\n",
    "    fold2= train2.iloc[fold2_id,:]\n",
    "    fold3= train2.iloc[fold3_id,:]\n",
    "\n",
    "  \n",
    "#print(train1_sample.shape)\n",
    "indices = np.random.permutation(train2.shape[0])\n",
    "train1_id, train2_id, train3_id = indices[:n1], indices[n1:2*n1],indices[2*n1+1:]\n",
    "tfold1= train1_sample.iloc[train1_id,:]\n",
    "tfold2= train1_sample.iloc[train2_id,:]\n",
    "tfold3= train1_sample.iloc[train3_id,:]\n",
    "# choisir deux jeux de données pour l'enrainement et le troisième jeux de données pour le test(validation)\n",
    "cv1=tfold1.append(fold1)\n",
    "cv2=tfold2.append(fold2)\n",
    "cv3=tfold3.append(fold3)"
   ]
  },
  {
   "cell_type": "code",
   "execution_count": null,
   "metadata": {},
   "outputs": [],
   "source": []
  },
  {
   "cell_type": "code",
   "execution_count": null,
   "metadata": {},
   "outputs": [],
   "source": []
  },
  {
   "cell_type": "code",
   "execution_count": null,
   "metadata": {},
   "outputs": [],
   "source": []
  }
 ],
 "metadata": {
  "kernelspec": {
   "display_name": "Python 3",
   "language": "python",
   "name": "python3"
  },
  "language_info": {
   "codemirror_mode": {
    "name": "ipython",
    "version": 3
   },
   "file_extension": ".py",
   "mimetype": "text/x-python",
   "name": "python",
   "nbconvert_exporter": "python",
   "pygments_lexer": "ipython3",
   "version": "3.7.6"
  }
 },
 "nbformat": 4,
 "nbformat_minor": 4
}

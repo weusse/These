{
 "cells": [
  {
   "cell_type": "markdown",
   "metadata": {},
   "source": [
    " Dans cette partie nous avons remplcaer la localité de provenance dechaque patient par le taux de \n",
    "laitalité du paludisme dela region de d'origine. \n",
    "Pour les localités dont nous ignorons les regions d'appartenance ainsi que les ptients dont la localité \n",
    "d'origine n'est pas spécifiée nous les avons remplace par le taux de laitalité nationale du paludisme du senegal"
   ]
  },
  {
   "cell_type": "markdown",
   "metadata": {},
   "source": [
    "Le taux de létalité est la proportion de cas fatals liés à une maladie ou à une affection particulière,\n",
    "par rapport au nombre total de cas atteints par la maladie ou concernés par la condition particulière \n",
    "(par exemple : exposition à un risque naturel ou industriel)."
   ]
  },
  {
   "cell_type": "code",
   "execution_count": 1,
   "metadata": {},
   "outputs": [
    {
     "name": "stderr",
     "output_type": "stream",
     "text": [
      "C:\\Users\\ndogue85\\Anaconda3\\lib\\site-packages\\sklearn\\cross_validation.py:41: DeprecationWarning: This module was deprecated in version 0.18 in favor of the model_selection module into which all the refactored classes and functions are moved. Also note that the interface of the new CV iterators are different from that of this module. This module will be removed in 0.20.\n",
      "  \"This module will be removed in 0.20.\", DeprecationWarning)\n"
     ]
    }
   ],
   "source": [
    "import pandas as pd\n",
    "import numpy as np\n",
    "from sklearn import preprocessing\n",
    "import matplotlib.pyplot as plt \n",
    "plt.rc(\"font\", size=14)\n",
    "from sklearn.linear_model import LogisticRegression\n",
    "from sklearn.cross_validation import train_test_split\n",
    "import seaborn as sns\n",
    "sns.set(style=\"white\")\n",
    "sns.set(style=\"whitegrid\", color_codes=True)"
   ]
  },
  {
   "cell_type": "code",
   "execution_count": 2,
   "metadata": {},
   "outputs": [],
   "source": [
    "palu=pd.read_excel('C:/Users/ndogue85/Documents/these/code_oython_these/palu_adresse.xlsx')"
   ]
  },
  {
   "cell_type": "code",
   "execution_count": 3,
   "metadata": {},
   "outputs": [
    {
     "name": "stdout",
     "output_type": "stream",
     "text": [
      "<class 'pandas.core.frame.DataFrame'>\n",
      "RangeIndex: 21083 entries, 0 to 21082\n",
      "Data columns (total 30 columns):\n",
      "Num_Patients      21083 non-null int64\n",
      "Num_JourVisite    21083 non-null int64\n",
      "A_annees          21083 non-null int64\n",
      "A_mois            21083 non-null int64\n",
      "A_semaines        21083 non-null int64\n",
      "A_jours           21083 non-null int64\n",
      "Sexe              20888 non-null object\n",
      "TENSION_A 1       21083 non-null int64\n",
      "TENSION_A 2       21083 non-null int64\n",
      "PPOIDS            21083 non-null int64\n",
      "TEMPERATURE       21083 non-null int64\n",
      "S_M8_APPETIT      21083 non-null int64\n",
      "S_FATIGUE         21083 non-null int64\n",
      "S_ARTHRALGI       21083 non-null int64\n",
      "S_T_DIGESTIF      21083 non-null int64\n",
      "S_VERTIGE         21083 non-null int64\n",
      "S_FRISSON         21083 non-null int64\n",
      "S_MYALGIE         21083 non-null int64\n",
      "S_DIARRHEE        21083 non-null int64\n",
      "S_DABDO           21083 non-null int64\n",
      "S_VOMISS          21083 non-null int64\n",
      "S_NAUSEE          21083 non-null int64\n",
      "S_CEPHALE         21083 non-null int64\n",
      "S_FIEVRE          21083 non-null int64\n",
      "TDR               21083 non-null int64\n",
      "Diagnostic        21083 non-null int64\n",
      "Hosp              21083 non-null int64\n",
      "Ref               16040 non-null object\n",
      "Deces             16054 non-null object\n",
      "Adresse           21083 non-null float64\n",
      "dtypes: float64(1), int64(26), object(3)\n",
      "memory usage: 4.8+ MB\n"
     ]
    }
   ],
   "source": [
    "palu.info()"
   ]
  },
  {
   "cell_type": "code",
   "execution_count": 4,
   "metadata": {},
   "outputs": [
    {
     "data": {
      "text/html": [
       "<div>\n",
       "<style scoped>\n",
       "    .dataframe tbody tr th:only-of-type {\n",
       "        vertical-align: middle;\n",
       "    }\n",
       "\n",
       "    .dataframe tbody tr th {\n",
       "        vertical-align: top;\n",
       "    }\n",
       "\n",
       "    .dataframe thead th {\n",
       "        text-align: right;\n",
       "    }\n",
       "</style>\n",
       "<table border=\"1\" class=\"dataframe\">\n",
       "  <thead>\n",
       "    <tr style=\"text-align: right;\">\n",
       "      <th></th>\n",
       "      <th>Num_Patients</th>\n",
       "      <th>Num_JourVisite</th>\n",
       "      <th>A_annees</th>\n",
       "      <th>A_mois</th>\n",
       "      <th>A_semaines</th>\n",
       "      <th>A_jours</th>\n",
       "      <th>Sexe</th>\n",
       "      <th>TENSION_A 1</th>\n",
       "      <th>TENSION_A 2</th>\n",
       "      <th>PPOIDS</th>\n",
       "      <th>...</th>\n",
       "      <th>S_VOMISS</th>\n",
       "      <th>S_NAUSEE</th>\n",
       "      <th>S_CEPHALE</th>\n",
       "      <th>S_FIEVRE</th>\n",
       "      <th>TDR</th>\n",
       "      <th>Diagnostic</th>\n",
       "      <th>Hosp</th>\n",
       "      <th>Ref</th>\n",
       "      <th>Deces</th>\n",
       "      <th>Adresse</th>\n",
       "    </tr>\n",
       "  </thead>\n",
       "  <tbody>\n",
       "    <tr>\n",
       "      <th>0</th>\n",
       "      <td>1</td>\n",
       "      <td>0</td>\n",
       "      <td>20</td>\n",
       "      <td>0</td>\n",
       "      <td>0</td>\n",
       "      <td>0</td>\n",
       "      <td>2</td>\n",
       "      <td>11</td>\n",
       "      <td>7</td>\n",
       "      <td>74</td>\n",
       "      <td>...</td>\n",
       "      <td>1</td>\n",
       "      <td>0</td>\n",
       "      <td>0</td>\n",
       "      <td>0</td>\n",
       "      <td>9</td>\n",
       "      <td>0</td>\n",
       "      <td>9</td>\n",
       "      <td>9</td>\n",
       "      <td>9</td>\n",
       "      <td>4.0</td>\n",
       "    </tr>\n",
       "    <tr>\n",
       "      <th>1</th>\n",
       "      <td>2</td>\n",
       "      <td>1</td>\n",
       "      <td>7</td>\n",
       "      <td>0</td>\n",
       "      <td>0</td>\n",
       "      <td>0</td>\n",
       "      <td>1</td>\n",
       "      <td>12</td>\n",
       "      <td>7</td>\n",
       "      <td>113</td>\n",
       "      <td>...</td>\n",
       "      <td>0</td>\n",
       "      <td>0</td>\n",
       "      <td>1</td>\n",
       "      <td>0</td>\n",
       "      <td>2</td>\n",
       "      <td>0</td>\n",
       "      <td>9</td>\n",
       "      <td>9</td>\n",
       "      <td>9</td>\n",
       "      <td>0.9</td>\n",
       "    </tr>\n",
       "    <tr>\n",
       "      <th>2</th>\n",
       "      <td>3</td>\n",
       "      <td>2</td>\n",
       "      <td>44</td>\n",
       "      <td>0</td>\n",
       "      <td>0</td>\n",
       "      <td>0</td>\n",
       "      <td>2</td>\n",
       "      <td>8</td>\n",
       "      <td>7</td>\n",
       "      <td>98</td>\n",
       "      <td>...</td>\n",
       "      <td>0</td>\n",
       "      <td>0</td>\n",
       "      <td>1</td>\n",
       "      <td>1</td>\n",
       "      <td>9</td>\n",
       "      <td>0</td>\n",
       "      <td>9</td>\n",
       "      <td>9</td>\n",
       "      <td>9</td>\n",
       "      <td>4.6</td>\n",
       "    </tr>\n",
       "    <tr>\n",
       "      <th>3</th>\n",
       "      <td>4</td>\n",
       "      <td>3</td>\n",
       "      <td>2</td>\n",
       "      <td>6</td>\n",
       "      <td>0</td>\n",
       "      <td>0</td>\n",
       "      <td>1</td>\n",
       "      <td>11</td>\n",
       "      <td>8</td>\n",
       "      <td>85</td>\n",
       "      <td>...</td>\n",
       "      <td>0</td>\n",
       "      <td>0</td>\n",
       "      <td>0</td>\n",
       "      <td>0</td>\n",
       "      <td>2</td>\n",
       "      <td>0</td>\n",
       "      <td>2</td>\n",
       "      <td>2</td>\n",
       "      <td>2</td>\n",
       "      <td>2.6</td>\n",
       "    </tr>\n",
       "    <tr>\n",
       "      <th>4</th>\n",
       "      <td>5</td>\n",
       "      <td>4</td>\n",
       "      <td>31</td>\n",
       "      <td>0</td>\n",
       "      <td>0</td>\n",
       "      <td>0</td>\n",
       "      <td>1</td>\n",
       "      <td>10</td>\n",
       "      <td>7</td>\n",
       "      <td>71</td>\n",
       "      <td>...</td>\n",
       "      <td>0</td>\n",
       "      <td>0</td>\n",
       "      <td>0</td>\n",
       "      <td>0</td>\n",
       "      <td>9</td>\n",
       "      <td>0</td>\n",
       "      <td>9</td>\n",
       "      <td>9</td>\n",
       "      <td>9</td>\n",
       "      <td>4.6</td>\n",
       "    </tr>\n",
       "  </tbody>\n",
       "</table>\n",
       "<p>5 rows × 30 columns</p>\n",
       "</div>"
      ],
      "text/plain": [
       "   Num_Patients  Num_JourVisite  A_annees  A_mois  A_semaines  A_jours Sexe  \\\n",
       "0             1               0        20       0           0        0    2   \n",
       "1             2               1         7       0           0        0    1   \n",
       "2             3               2        44       0           0        0    2   \n",
       "3             4               3         2       6           0        0    1   \n",
       "4             5               4        31       0           0        0    1   \n",
       "\n",
       "   TENSION_A 1  TENSION_A 2  PPOIDS   ...     S_VOMISS  S_NAUSEE  S_CEPHALE  \\\n",
       "0           11            7      74   ...            1         0          0   \n",
       "1           12            7     113   ...            0         0          1   \n",
       "2            8            7      98   ...            0         0          1   \n",
       "3           11            8      85   ...            0         0          0   \n",
       "4           10            7      71   ...            0         0          0   \n",
       "\n",
       "   S_FIEVRE  TDR  Diagnostic  Hosp  Ref  Deces  Adresse  \n",
       "0         0    9           0     9    9      9      4.0  \n",
       "1         0    2           0     9    9      9      0.9  \n",
       "2         1    9           0     9    9      9      4.6  \n",
       "3         0    2           0     2    2      2      2.6  \n",
       "4         0    9           0     9    9      9      4.6  \n",
       "\n",
       "[5 rows x 30 columns]"
      ]
     },
     "execution_count": 4,
     "metadata": {},
     "output_type": "execute_result"
    }
   ],
   "source": [
    "palu.head()"
   ]
  },
  {
   "cell_type": "code",
   "execution_count": 5,
   "metadata": {},
   "outputs": [
    {
     "data": {
      "image/png": "[encoded data removed]",
      "text/plain": [
       "<Figure size 432x288 with 1 Axes>"
      ]
     },
     "metadata": {},
     "output_type": "display_data"
    }
   ],
   "source": [
    "sns.countplot(x=palu['Adresse'],data=palu, palette='hls')\n",
    "plt.show()"
   ]
  },
  {
   "cell_type": "markdown",
   "metadata": {},
   "source": [
    "On constate les habitants de la region de diourbel sont trop majoritaire par rapport aux autres regions "
   ]
  },
  {
   "cell_type": "code",
   "execution_count": 6,
   "metadata": {},
   "outputs": [],
   "source": [
    "paluu=pd.DataFrame(palu, columns = ['PPOIDS', 'TEMPERATURE', 'S_M8_APPETIT', 'S_FATIGUE', 'S_ARTHRALGI', 'S_T_DIGESTIF', 'S_VERTIGE', 'S_FRISSON', 'S_MYALGIE', 'S_DABDO', 'S_VOMISS', 'S_NAUSEE', 'S_CEPHALE', 'S_FIEVRE','TDR','Adresse'])"
   ]
  },
  {
   "cell_type": "code",
   "execution_count": 7,
   "metadata": {},
   "outputs": [
    {
     "data": {
      "text/html": [
       "<div>\n",
       "<style scoped>\n",
       "    .dataframe tbody tr th:only-of-type {\n",
       "        vertical-align: middle;\n",
       "    }\n",
       "\n",
       "    .dataframe tbody tr th {\n",
       "        vertical-align: top;\n",
       "    }\n",
       "\n",
       "    .dataframe thead th {\n",
       "        text-align: right;\n",
       "    }\n",
       "</style>\n",
       "<table border=\"1\" class=\"dataframe\">\n",
       "  <thead>\n",
       "    <tr style=\"text-align: right;\">\n",
       "      <th></th>\n",
       "      <th>PPOIDS</th>\n",
       "      <th>TEMPERATURE</th>\n",
       "      <th>S_M8_APPETIT</th>\n",
       "      <th>S_FATIGUE</th>\n",
       "      <th>S_ARTHRALGI</th>\n",
       "      <th>S_T_DIGESTIF</th>\n",
       "      <th>S_VERTIGE</th>\n",
       "      <th>S_FRISSON</th>\n",
       "      <th>S_MYALGIE</th>\n",
       "      <th>S_DABDO</th>\n",
       "      <th>S_VOMISS</th>\n",
       "      <th>S_NAUSEE</th>\n",
       "      <th>S_CEPHALE</th>\n",
       "      <th>S_FIEVRE</th>\n",
       "      <th>TDR</th>\n",
       "      <th>Adresse</th>\n",
       "    </tr>\n",
       "  </thead>\n",
       "  <tbody>\n",
       "    <tr>\n",
       "      <th>0</th>\n",
       "      <td>74</td>\n",
       "      <td>37</td>\n",
       "      <td>0</td>\n",
       "      <td>0</td>\n",
       "      <td>0</td>\n",
       "      <td>0</td>\n",
       "      <td>0</td>\n",
       "      <td>0</td>\n",
       "      <td>0</td>\n",
       "      <td>0</td>\n",
       "      <td>1</td>\n",
       "      <td>0</td>\n",
       "      <td>0</td>\n",
       "      <td>0</td>\n",
       "      <td>9</td>\n",
       "      <td>4.0</td>\n",
       "    </tr>\n",
       "    <tr>\n",
       "      <th>1</th>\n",
       "      <td>113</td>\n",
       "      <td>37</td>\n",
       "      <td>0</td>\n",
       "      <td>0</td>\n",
       "      <td>0</td>\n",
       "      <td>0</td>\n",
       "      <td>0</td>\n",
       "      <td>1</td>\n",
       "      <td>0</td>\n",
       "      <td>0</td>\n",
       "      <td>0</td>\n",
       "      <td>0</td>\n",
       "      <td>1</td>\n",
       "      <td>0</td>\n",
       "      <td>2</td>\n",
       "      <td>0.9</td>\n",
       "    </tr>\n",
       "    <tr>\n",
       "      <th>2</th>\n",
       "      <td>98</td>\n",
       "      <td>37</td>\n",
       "      <td>0</td>\n",
       "      <td>0</td>\n",
       "      <td>0</td>\n",
       "      <td>0</td>\n",
       "      <td>0</td>\n",
       "      <td>0</td>\n",
       "      <td>0</td>\n",
       "      <td>0</td>\n",
       "      <td>0</td>\n",
       "      <td>0</td>\n",
       "      <td>1</td>\n",
       "      <td>1</td>\n",
       "      <td>9</td>\n",
       "      <td>4.6</td>\n",
       "    </tr>\n",
       "    <tr>\n",
       "      <th>3</th>\n",
       "      <td>85</td>\n",
       "      <td>37</td>\n",
       "      <td>0</td>\n",
       "      <td>0</td>\n",
       "      <td>0</td>\n",
       "      <td>0</td>\n",
       "      <td>0</td>\n",
       "      <td>0</td>\n",
       "      <td>0</td>\n",
       "      <td>0</td>\n",
       "      <td>0</td>\n",
       "      <td>0</td>\n",
       "      <td>0</td>\n",
       "      <td>0</td>\n",
       "      <td>2</td>\n",
       "      <td>2.6</td>\n",
       "    </tr>\n",
       "    <tr>\n",
       "      <th>4</th>\n",
       "      <td>71</td>\n",
       "      <td>37</td>\n",
       "      <td>0</td>\n",
       "      <td>0</td>\n",
       "      <td>0</td>\n",
       "      <td>0</td>\n",
       "      <td>0</td>\n",
       "      <td>0</td>\n",
       "      <td>0</td>\n",
       "      <td>0</td>\n",
       "      <td>0</td>\n",
       "      <td>0</td>\n",
       "      <td>0</td>\n",
       "      <td>0</td>\n",
       "      <td>9</td>\n",
       "      <td>4.6</td>\n",
       "    </tr>\n",
       "  </tbody>\n",
       "</table>\n",
       "</div>"
      ],
      "text/plain": [
       "   PPOIDS  TEMPERATURE  S_M8_APPETIT  S_FATIGUE  S_ARTHRALGI  S_T_DIGESTIF  \\\n",
       "0      74           37             0          0            0             0   \n",
       "1     113           37             0          0            0             0   \n",
       "2      98           37             0          0            0             0   \n",
       "3      85           37             0          0            0             0   \n",
       "4      71           37             0          0            0             0   \n",
       "\n",
       "   S_VERTIGE  S_FRISSON  S_MYALGIE  S_DABDO  S_VOMISS  S_NAUSEE  S_CEPHALE  \\\n",
       "0          0          0          0        0         1         0          0   \n",
       "1          0          1          0        0         0         0          1   \n",
       "2          0          0          0        0         0         0          1   \n",
       "3          0          0          0        0         0         0          0   \n",
       "4          0          0          0        0         0         0          0   \n",
       "\n",
       "   S_FIEVRE  TDR  Adresse  \n",
       "0         0    9      4.0  \n",
       "1         0    2      0.9  \n",
       "2         1    9      4.6  \n",
       "3         0    2      2.6  \n",
       "4         0    9      4.6  "
      ]
     },
     "execution_count": 7,
     "metadata": {},
     "output_type": "execute_result"
    }
   ],
   "source": [
    "paluu.head()"
   ]
  },
  {
   "cell_type": "markdown",
   "metadata": {},
   "source": [
    "# Suréchantillonnage avec l'algorithme SMOTE\n",
    "Il consiste à céer u echantillon de données synthetiques apartir de la valeur dependante Diagnostic au lieu de faire des copies des valeurs existantes. Ensuite choisir au hasard l'un des k plus proches voisins et l'utiliser pour créer de nouvelles observations similaires, mais au hasard\n",
    "\n"
   ]
  },
  {
   "cell_type": "code",
   "execution_count": 8,
   "metadata": {},
   "outputs": [],
   "source": [
    "X1 = paluu\n",
    "y1 =palu['Diagnostic']\n",
    "from imblearn.over_sampling import SMOTE\n",
    "Re= SMOTE(random_state=0)\n",
    "X1_train, X1_test, y1_train, y1_test = train_test_split(X1, y1, test_size=0.3, random_state=0)\n",
    "columns = X1_train.columns\n",
    "Re_data_X1,Re_data_y1=Re.fit_sample(X1_train, y1_train)\n",
    "Re_data_X1 = pd.DataFrame(data=Re_data_X1,columns=columns )\n",
    "#os_data_y= pd.DataFrame(data=os_data_y,columns=['y'])\n"
   ]
  },
  {
   "cell_type": "code",
   "execution_count": 9,
   "metadata": {},
   "outputs": [
    {
     "name": "stdout",
     "output_type": "stream",
     "text": [
      "[[3230  348]\n",
      " [ 480 3109]]\n"
     ]
    }
   ],
   "source": [
    "# Nous séparons notre jeu données palu en deux parties. Une partie pour entrainer X_train et un partie pour tester X_test\n",
    "# Nous séparons notre variable cible en deux parties. Une partie pour entrainer y_train et une partie pour tester y_test\n",
    "X = Re_data_X1\n",
    "y = Re_data_y1\n",
    "X_train, X_test, y_train, y_test = train_test_split(X, y, random_state=0)\n",
    "palu_classifier = LogisticRegression(random_state=0)\n",
    "palu_classifier.fit(X_train, y_train)\n",
    "palu_pred = palu_classifier.predict(X_test)\n",
    "from sklearn.metrics import confusion_matrix\n",
    "confusion_matrix = confusion_matrix(y_test, palu_pred)\n",
    "from sklearn.metrics import classification_report\n",
    "\n",
    "print(confusion_matrix)\n"
   ]
  },
  {
   "cell_type": "code",
   "execution_count": 10,
   "metadata": {
    "scrolled": true
   },
   "outputs": [
    {
     "name": "stdout",
     "output_type": "stream",
     "text": [
      "             precision    recall  f1-score   support\n",
      "\n",
      "          0       0.87      0.90      0.89      3578\n",
      "          1       0.90      0.87      0.88      3589\n",
      "\n",
      "avg / total       0.88      0.88      0.88      7167\n",
      "\n",
      "La precision de la regression logistique sur les données de test  : 88.45\n"
     ]
    }
   ],
   "source": [
    "print(classification_report(y_test, palu_pred))\n",
    "print('La precision de la regression logistique sur les données de test  : {:.2f}'.format(palu_classifier.score(X_test, y_test)*100))"
   ]
  },
  {
   "cell_type": "markdown",
   "metadata": {},
   "source": [
    "On remarque que le score est un peut meilleur comparaer à l'éxpérimentation sans le taux de laitalite.\n",
    "En effet il passe de 88.45% contre 88.35%"
   ]
  },
  {
   "cell_type": "markdown",
   "metadata": {},
   "source": [
    "# SVM avec kernel=polynom"
   ]
  },
  {
   "cell_type": "code",
   "execution_count": 11,
   "metadata": {},
   "outputs": [
    {
     "name": "stdout",
     "output_type": "stream",
     "text": [
      "[[2642  264]\n",
      " [ 359 2469]]\n",
      "             precision    recall  f1-score   support\n",
      "\n",
      "          0       0.88      0.91      0.89      2906\n",
      "          1       0.90      0.87      0.89      2828\n",
      "\n",
      "avg / total       0.89      0.89      0.89      5734\n",
      "\n"
     ]
    }
   ],
   "source": [
    "dt1 = Re_data_X1\n",
    "y1 = Re_data_y1\n",
    "from sklearn.model_selection import train_test_split\n",
    "dt1_train,dt1_test,y_train,y_test=train_test_split(dt1,y1, test_size=0.20)\n",
    "from sklearn.svm import SVC  \n",
    "svclassifier = SVC(kernel='linear')  \n",
    "svclassifier.fit(dt1_train, y_train)  \n",
    "y_pred = svclassifier.predict(dt1_test)  \n",
    "from sklearn.metrics import classification_report, confusion_matrix  \n",
    "print(confusion_matrix(y_test, y_pred))  \n",
    "print(classification_report(y_test, y_pred))"
   ]
  },
  {
   "cell_type": "markdown",
   "metadata": {},
   "source": [
    "On constate que le score c'est ausssi amélioré par raaport à la fonction de refression logistoique.\n",
    "En effet on note une lègère hausse. Elle passe de  89% contre 88.45%\n",
    "    Ce pendant dans les deux expérimentations on note qu'il y'apas une variation assez significatif entre la regresssion logistique et le SVM\n",
    "Ps: jepropose de faire une cross validation pour selectionner les meilleurs paramètres pour la regression logistique"
   ]
  }
 ],
 "metadata": {
  "kernelspec": {
   "display_name": "Python 3",
   "language": "python",
   "name": "python3"
  },
  "language_info": {
   "codemirror_mode": {
    "name": "ipython",
    "version": 3
   },
   "file_extension": ".py",
   "mimetype": "text/x-python",
   "name": "python",
   "nbconvert_exporter": "python",
   "pygments_lexer": "ipython3",
   "version": "3.6.5"
  }
 },
 "nbformat": 4,
 "nbformat_minor": 2
}

{
 "cells": [
  {
   "cell_type": "markdown",
   "metadata": {},
   "source": [
    "# Imputation des données manquantes\n",
    "Pour les attributs  'A_annees', 'A_mois', 'A_semaines', 'A_jours', 'Sexe', 'TENSION_A 1', 'TENSION_A 2', 'PPOIDS',\n",
    " et TEMPERATURE nous avons utlisé les packages random Forest et missForest du logiciel R pour prédire les données \n",
    " manquantes de ces attributs. L'une des fonctions utilisée est la suivante\n",
    " \n",
    "Pour les attributs S', 'TEMPERATURE', 'S_M8_APPETIT', 'S_FATIGUE', 'S_ARTHRALGI', 'S_T_DIGESTIF', 'S_VERTIGE', 'S_FRISSON', 'S_MYALGIE', 'S_DIARRHEE', 'S_DABDO', 'S_VOMISS', 'S_NAUSEE', 'S_CEPHALE'et  'S_FIEVRE' nous avons mis 1 si le patient presente\n",
    "le signe ou le symptome et 0 si le patient ne presnte pas le signe ou le symptome\n",
    "Pour l'attribut Diagnostic nous avons mis 1 si un patient est atteint de n'importe quel type de paludisme et 0 si le patient n'est pas atteint de paludisme. Ceci nous permettra de faire une regression logistique sur nos données"
   ]
  },
  {
   "cell_type": "code",
   "execution_count": 1,
   "metadata": {},
   "outputs": [
    {
     "name": "stderr",
     "output_type": "stream",
     "text": [
      "C:\\Users\\ndogue85\\Anaconda3\\lib\\site-packages\\sklearn\\cross_validation.py:41: DeprecationWarning: This module was deprecated in version 0.18 in favor of the model_selection module into which all the refactored classes and functions are moved. Also note that the interface of the new CV iterators are different from that of this module. This module will be removed in 0.20.\n",
      "  \"This module will be removed in 0.20.\", DeprecationWarning)\n"
     ]
    }
   ],
   "source": [
    "import pandas as pd\n",
    "import numpy as np\n",
    "from sklearn import preprocessing\n",
    "import matplotlib.pyplot as plt \n",
    "plt.rc(\"font\", size=14)\n",
    "from sklearn.linear_model import LogisticRegression\n",
    "from sklearn.cross_validation import train_test_split\n",
    "import seaborn as sns\n",
    "sns.set(style=\"white\")\n",
    "sns.set(style=\"whitegrid\", color_codes=True)"
   ]
  },
  {
   "cell_type": "code",
   "execution_count": 2,
   "metadata": {},
   "outputs": [],
   "source": [
    "palu=pd.read_excel('C:/Users/ndogue85/Documents/these/code_oython_these/palu_impute001.xlsx')"
   ]
  },
  {
   "cell_type": "code",
   "execution_count": 3,
   "metadata": {},
   "outputs": [
    {
     "data": {
      "text/html": [
       "<div>\n",
       "<style scoped>\n",
       "    .dataframe tbody tr th:only-of-type {\n",
       "        vertical-align: middle;\n",
       "    }\n",
       "\n",
       "    .dataframe tbody tr th {\n",
       "        vertical-align: top;\n",
       "    }\n",
       "\n",
       "    .dataframe thead th {\n",
       "        text-align: right;\n",
       "    }\n",
       "</style>\n",
       "<table border=\"1\" class=\"dataframe\">\n",
       "  <thead>\n",
       "    <tr style=\"text-align: right;\">\n",
       "      <th></th>\n",
       "      <th>Num_Patients</th>\n",
       "      <th>Num_JourVisite</th>\n",
       "      <th>A_annees</th>\n",
       "      <th>A_mois</th>\n",
       "      <th>A_semaines</th>\n",
       "      <th>A_jours</th>\n",
       "      <th>Sexe</th>\n",
       "      <th>TENSION_A 1</th>\n",
       "      <th>TENSION_A 2</th>\n",
       "      <th>PPOIDS</th>\n",
       "      <th>...</th>\n",
       "      <th>S_DABDO</th>\n",
       "      <th>S_VOMISS</th>\n",
       "      <th>S_NAUSEE</th>\n",
       "      <th>S_CEPHALE</th>\n",
       "      <th>S_FIEVRE</th>\n",
       "      <th>TDR</th>\n",
       "      <th>Diagnostic</th>\n",
       "      <th>Hosp</th>\n",
       "      <th>Ref</th>\n",
       "      <th>Deces</th>\n",
       "    </tr>\n",
       "  </thead>\n",
       "  <tbody>\n",
       "    <tr>\n",
       "      <th>0</th>\n",
       "      <td>1</td>\n",
       "      <td>0</td>\n",
       "      <td>20</td>\n",
       "      <td>0</td>\n",
       "      <td>0</td>\n",
       "      <td>0</td>\n",
       "      <td>2</td>\n",
       "      <td>11</td>\n",
       "      <td>7</td>\n",
       "      <td>74</td>\n",
       "      <td>...</td>\n",
       "      <td>0</td>\n",
       "      <td>1</td>\n",
       "      <td>0</td>\n",
       "      <td>0</td>\n",
       "      <td>0</td>\n",
       "      <td>9</td>\n",
       "      <td>0</td>\n",
       "      <td>9</td>\n",
       "      <td>9</td>\n",
       "      <td>9</td>\n",
       "    </tr>\n",
       "    <tr>\n",
       "      <th>1</th>\n",
       "      <td>2</td>\n",
       "      <td>1</td>\n",
       "      <td>7</td>\n",
       "      <td>0</td>\n",
       "      <td>0</td>\n",
       "      <td>0</td>\n",
       "      <td>1</td>\n",
       "      <td>12</td>\n",
       "      <td>7</td>\n",
       "      <td>113</td>\n",
       "      <td>...</td>\n",
       "      <td>0</td>\n",
       "      <td>0</td>\n",
       "      <td>0</td>\n",
       "      <td>1</td>\n",
       "      <td>0</td>\n",
       "      <td>2</td>\n",
       "      <td>0</td>\n",
       "      <td>9</td>\n",
       "      <td>9</td>\n",
       "      <td>9</td>\n",
       "    </tr>\n",
       "    <tr>\n",
       "      <th>2</th>\n",
       "      <td>3</td>\n",
       "      <td>2</td>\n",
       "      <td>44</td>\n",
       "      <td>0</td>\n",
       "      <td>0</td>\n",
       "      <td>0</td>\n",
       "      <td>2</td>\n",
       "      <td>8</td>\n",
       "      <td>7</td>\n",
       "      <td>98</td>\n",
       "      <td>...</td>\n",
       "      <td>0</td>\n",
       "      <td>0</td>\n",
       "      <td>0</td>\n",
       "      <td>1</td>\n",
       "      <td>1</td>\n",
       "      <td>9</td>\n",
       "      <td>0</td>\n",
       "      <td>9</td>\n",
       "      <td>9</td>\n",
       "      <td>9</td>\n",
       "    </tr>\n",
       "    <tr>\n",
       "      <th>3</th>\n",
       "      <td>4</td>\n",
       "      <td>3</td>\n",
       "      <td>2</td>\n",
       "      <td>6</td>\n",
       "      <td>0</td>\n",
       "      <td>0</td>\n",
       "      <td>1</td>\n",
       "      <td>11</td>\n",
       "      <td>8</td>\n",
       "      <td>85</td>\n",
       "      <td>...</td>\n",
       "      <td>0</td>\n",
       "      <td>0</td>\n",
       "      <td>0</td>\n",
       "      <td>0</td>\n",
       "      <td>0</td>\n",
       "      <td>2</td>\n",
       "      <td>0</td>\n",
       "      <td>2</td>\n",
       "      <td>2</td>\n",
       "      <td>2</td>\n",
       "    </tr>\n",
       "    <tr>\n",
       "      <th>4</th>\n",
       "      <td>5</td>\n",
       "      <td>4</td>\n",
       "      <td>31</td>\n",
       "      <td>0</td>\n",
       "      <td>0</td>\n",
       "      <td>0</td>\n",
       "      <td>1</td>\n",
       "      <td>10</td>\n",
       "      <td>7</td>\n",
       "      <td>71</td>\n",
       "      <td>...</td>\n",
       "      <td>0</td>\n",
       "      <td>0</td>\n",
       "      <td>0</td>\n",
       "      <td>0</td>\n",
       "      <td>0</td>\n",
       "      <td>9</td>\n",
       "      <td>0</td>\n",
       "      <td>9</td>\n",
       "      <td>9</td>\n",
       "      <td>9</td>\n",
       "    </tr>\n",
       "  </tbody>\n",
       "</table>\n",
       "<p>5 rows × 29 columns</p>\n",
       "</div>"
      ],
      "text/plain": [
       "   Num_Patients  Num_JourVisite  A_annees  A_mois  A_semaines  A_jours Sexe  \\\n",
       "0             1               0        20       0           0        0    2   \n",
       "1             2               1         7       0           0        0    1   \n",
       "2             3               2        44       0           0        0    2   \n",
       "3             4               3         2       6           0        0    1   \n",
       "4             5               4        31       0           0        0    1   \n",
       "\n",
       "   TENSION_A 1  TENSION_A 2  PPOIDS  ...    S_DABDO  S_VOMISS  S_NAUSEE  \\\n",
       "0           11            7      74  ...          0         1         0   \n",
       "1           12            7     113  ...          0         0         0   \n",
       "2            8            7      98  ...          0         0         0   \n",
       "3           11            8      85  ...          0         0         0   \n",
       "4           10            7      71  ...          0         0         0   \n",
       "\n",
       "   S_CEPHALE  S_FIEVRE  TDR  Diagnostic  Hosp  Ref  Deces  \n",
       "0          0         0    9           0     9    9      9  \n",
       "1          1         0    2           0     9    9      9  \n",
       "2          1         1    9           0     9    9      9  \n",
       "3          0         0    2           0     2    2      2  \n",
       "4          0         0    9           0     9    9      9  \n",
       "\n",
       "[5 rows x 29 columns]"
      ]
     },
     "execution_count": 3,
     "metadata": {},
     "output_type": "execute_result"
    }
   ],
   "source": [
    "palu.head()"
   ]
  },
  {
   "cell_type": "code",
   "execution_count": 4,
   "metadata": {},
   "outputs": [
    {
     "name": "stdout",
     "output_type": "stream",
     "text": [
      "(21083, 29)\n",
      "['Num_Patients', 'Num_JourVisite', 'A_annees', 'A_mois', 'A_semaines', 'A_jours', 'Sexe', 'TENSION_A 1', 'TENSION_A 2', 'PPOIDS', 'TEMPERATURE', 'S_M8_APPETIT', 'S_FATIGUE', 'S_ARTHRALGI', 'S_T_DIGESTIF', 'S_VERTIGE', 'S_FRISSON', 'S_MYALGIE', 'S_DIARRHEE', 'S_DABDO', 'S_VOMISS', 'S_NAUSEE', 'S_CEPHALE', 'S_FIEVRE', 'TDR', 'Diagnostic', 'Hosp', 'Ref', 'Deces']\n"
     ]
    }
   ],
   "source": [
    "print(palu.shape)\n",
    "print(list(palu.columns))"
   ]
  },
  {
   "cell_type": "code",
   "execution_count": 5,
   "metadata": {},
   "outputs": [],
   "source": [
    "#  Barplot pour la variable dépendante Diagnostic"
   ]
  },
  {
   "cell_type": "code",
   "execution_count": 6,
   "metadata": {},
   "outputs": [
    {
     "data": {
      "image/png": "[encoded data removed]",
      "text/plain": [
       "<Figure size 432x288 with 1 Axes>"
      ]
     },
     "metadata": {},
     "output_type": "display_data"
    }
   ],
   "source": [
    "sns.countplot(x=palu['Diagnostic'],data=palu, palette='hls')\n",
    "plt.show()"
   ]
  },
  {
   "cell_type": "code",
   "execution_count": 7,
   "metadata": {},
   "outputs": [
    {
     "data": {
      "image/png": "[encoded data removed]",
      "text/plain": [
       "<Figure size 432x288 with 1 Axes>"
      ]
     },
     "metadata": {},
     "output_type": "display_data"
    }
   ],
   "source": [
    "sns.countplot(x=palu['TDR'], data=palu)\n",
    "plt.show()"
   ]
  },
  {
   "cell_type": "code",
   "execution_count": 8,
   "metadata": {},
   "outputs": [
    {
     "data": {
      "image/png": "[encoded data removed]",
      "text/plain": [
       "<Figure size 432x288 with 1 Axes>"
      ]
     },
     "metadata": {},
     "output_type": "display_data"
    }
   ],
   "source": [
    "sns.countplot(x=palu['TEMPERATURE'], data=palu)\n",
    "plt.show()"
   ]
  },
  {
   "cell_type": "code",
   "execution_count": 9,
   "metadata": {},
   "outputs": [
    {
     "data": {
      "image/png": "[encoded data removed]",
      "text/plain": [
       "<Figure size 432x288 with 1 Axes>"
      ]
     },
     "metadata": {},
     "output_type": "display_data"
    }
   ],
   "source": [
    "sns.countplot(x=palu['PPOIDS'], data=palu)\n",
    "plt.show()"
   ]
  },
  {
   "cell_type": "code",
   "execution_count": 10,
   "metadata": {},
   "outputs": [
    {
     "data": {
      "image/png": "[encoded data removed]",
      "text/plain": [
       "<Figure size 432x288 with 1 Axes>"
      ]
     },
     "metadata": {},
     "output_type": "display_data"
    }
   ],
   "source": [
    "sns.countplot(x=palu['Diagnostic'], data=palu)\n",
    "plt.show()"
   ]
  },
  {
   "cell_type": "code",
   "execution_count": 18,
   "metadata": {},
   "outputs": [],
   "source": [
    "paluu=pd.DataFrame(palu, columns = ['PPOIDS', 'TEMPERATURE', 'S_M8_APPETIT', 'S_FATIGUE', 'S_ARTHRALGI', 'S_T_DIGESTIF', 'S_VERTIGE', 'S_FRISSON', 'S_MYALGIE', 'S_DABDO', 'S_VOMISS', 'S_NAUSEE', 'S_CEPHALE', 'S_FIEVRE','TDR'])"
   ]
  },
  {
   "cell_type": "code",
   "execution_count": 12,
   "metadata": {},
   "outputs": [
    {
     "data": {
      "text/html": [
       "<div>\n",
       "<style scoped>\n",
       "    .dataframe tbody tr th:only-of-type {\n",
       "        vertical-align: middle;\n",
       "    }\n",
       "\n",
       "    .dataframe tbody tr th {\n",
       "        vertical-align: top;\n",
       "    }\n",
       "\n",
       "    .dataframe thead th {\n",
       "        text-align: right;\n",
       "    }\n",
       "</style>\n",
       "<table border=\"1\" class=\"dataframe\">\n",
       "  <thead>\n",
       "    <tr style=\"text-align: right;\">\n",
       "      <th></th>\n",
       "      <th>PPOIDS</th>\n",
       "      <th>TEMPERATURE</th>\n",
       "      <th>S_M8_APPETIT</th>\n",
       "      <th>S_FATIGUE</th>\n",
       "      <th>S_ARTHRALGI</th>\n",
       "      <th>S_T_DIGESTIF</th>\n",
       "      <th>S_VERTIGE</th>\n",
       "      <th>S_FRISSON</th>\n",
       "      <th>S_MYALGIE</th>\n",
       "      <th>S_DABDO</th>\n",
       "      <th>S_VOMISS</th>\n",
       "      <th>S_NAUSEE</th>\n",
       "      <th>S_CEPHALE</th>\n",
       "      <th>S_FIEVRE</th>\n",
       "      <th>TDR</th>\n",
       "    </tr>\n",
       "  </thead>\n",
       "  <tbody>\n",
       "    <tr>\n",
       "      <th>0</th>\n",
       "      <td>74</td>\n",
       "      <td>37</td>\n",
       "      <td>0</td>\n",
       "      <td>0</td>\n",
       "      <td>0</td>\n",
       "      <td>0</td>\n",
       "      <td>0</td>\n",
       "      <td>0</td>\n",
       "      <td>0</td>\n",
       "      <td>0</td>\n",
       "      <td>1</td>\n",
       "      <td>0</td>\n",
       "      <td>0</td>\n",
       "      <td>0</td>\n",
       "      <td>9</td>\n",
       "    </tr>\n",
       "    <tr>\n",
       "      <th>1</th>\n",
       "      <td>113</td>\n",
       "      <td>37</td>\n",
       "      <td>0</td>\n",
       "      <td>0</td>\n",
       "      <td>0</td>\n",
       "      <td>0</td>\n",
       "      <td>0</td>\n",
       "      <td>1</td>\n",
       "      <td>0</td>\n",
       "      <td>0</td>\n",
       "      <td>0</td>\n",
       "      <td>0</td>\n",
       "      <td>1</td>\n",
       "      <td>0</td>\n",
       "      <td>2</td>\n",
       "    </tr>\n",
       "    <tr>\n",
       "      <th>2</th>\n",
       "      <td>98</td>\n",
       "      <td>37</td>\n",
       "      <td>0</td>\n",
       "      <td>0</td>\n",
       "      <td>0</td>\n",
       "      <td>0</td>\n",
       "      <td>0</td>\n",
       "      <td>0</td>\n",
       "      <td>0</td>\n",
       "      <td>0</td>\n",
       "      <td>0</td>\n",
       "      <td>0</td>\n",
       "      <td>1</td>\n",
       "      <td>1</td>\n",
       "      <td>9</td>\n",
       "    </tr>\n",
       "    <tr>\n",
       "      <th>3</th>\n",
       "      <td>85</td>\n",
       "      <td>37</td>\n",
       "      <td>0</td>\n",
       "      <td>0</td>\n",
       "      <td>0</td>\n",
       "      <td>0</td>\n",
       "      <td>0</td>\n",
       "      <td>0</td>\n",
       "      <td>0</td>\n",
       "      <td>0</td>\n",
       "      <td>0</td>\n",
       "      <td>0</td>\n",
       "      <td>0</td>\n",
       "      <td>0</td>\n",
       "      <td>2</td>\n",
       "    </tr>\n",
       "    <tr>\n",
       "      <th>4</th>\n",
       "      <td>71</td>\n",
       "      <td>37</td>\n",
       "      <td>0</td>\n",
       "      <td>0</td>\n",
       "      <td>0</td>\n",
       "      <td>0</td>\n",
       "      <td>0</td>\n",
       "      <td>0</td>\n",
       "      <td>0</td>\n",
       "      <td>0</td>\n",
       "      <td>0</td>\n",
       "      <td>0</td>\n",
       "      <td>0</td>\n",
       "      <td>0</td>\n",
       "      <td>9</td>\n",
       "    </tr>\n",
       "  </tbody>\n",
       "</table>\n",
       "</div>"
      ],
      "text/plain": [
       "   PPOIDS  TEMPERATURE  S_M8_APPETIT  S_FATIGUE  S_ARTHRALGI  S_T_DIGESTIF  \\\n",
       "0      74           37             0          0            0             0   \n",
       "1     113           37             0          0            0             0   \n",
       "2      98           37             0          0            0             0   \n",
       "3      85           37             0          0            0             0   \n",
       "4      71           37             0          0            0             0   \n",
       "\n",
       "   S_VERTIGE  S_FRISSON  S_MYALGIE  S_DABDO  S_VOMISS  S_NAUSEE  S_CEPHALE  \\\n",
       "0          0          0          0        0         1         0          0   \n",
       "1          0          1          0        0         0         0          1   \n",
       "2          0          0          0        0         0         0          1   \n",
       "3          0          0          0        0         0         0          0   \n",
       "4          0          0          0        0         0         0          0   \n",
       "\n",
       "   S_FIEVRE  TDR  \n",
       "0         0    9  \n",
       "1         0    2  \n",
       "2         1    9  \n",
       "3         0    2  \n",
       "4         0    9  "
      ]
     },
     "execution_count": 12,
     "metadata": {},
     "output_type": "execute_result"
    }
   ],
   "source": [
    "paluu.head()"
   ]
  },
  {
   "cell_type": "code",
   "execution_count": 13,
   "metadata": {},
   "outputs": [
    {
     "name": "stdout",
     "output_type": "stream",
     "text": [
      "<class 'pandas.core.frame.DataFrame'>\n",
      "RangeIndex: 21083 entries, 0 to 21082\n",
      "Data columns (total 15 columns):\n",
      "PPOIDS          21083 non-null int64\n",
      "TEMPERATURE     21083 non-null int64\n",
      "S_M8_APPETIT    21083 non-null int64\n",
      "S_FATIGUE       21083 non-null int64\n",
      "S_ARTHRALGI     21083 non-null int64\n",
      "S_T_DIGESTIF    21083 non-null int64\n",
      "S_VERTIGE       21083 non-null int64\n",
      "S_FRISSON       21083 non-null int64\n",
      "S_MYALGIE       21083 non-null int64\n",
      "S_DABDO         21083 non-null int64\n",
      "S_VOMISS        21083 non-null int64\n",
      "S_NAUSEE        21083 non-null int64\n",
      "S_CEPHALE       21083 non-null int64\n",
      "S_FIEVRE        21083 non-null int64\n",
      "TDR             21083 non-null int64\n",
      "dtypes: int64(15)\n",
      "memory usage: 2.4 MB\n"
     ]
    }
   ],
   "source": [
    "paluu.info()"
   ]
  },
  {
   "cell_type": "markdown",
   "metadata": {},
   "source": [
    "Verifions l'independances des données"
   ]
  },
  {
   "cell_type": "code",
   "execution_count": 14,
   "metadata": {},
   "outputs": [
    {
     "data": {
      "image/png": "[encoded data removed]",
      "text/plain": [
       "<Figure size 432x288 with 2 Axes>"
      ]
     },
     "metadata": {},
     "output_type": "display_data"
    }
   ],
   "source": [
    "sns.heatmap(paluu.corr())\n",
    "plt.show()"
   ]
  },
  {
   "cell_type": "markdown",
   "metadata": {},
   "source": [
    "On remarque ques les données semblent etre indépendantes"
   ]
  },
  {
   "cell_type": "markdown",
   "metadata": {},
   "source": [
    "Notre variable cible est l'attribut 'Diagnostic' qui permettra de dire si un patient est atteint de paludisme ou non\n",
    " Etant donné que le Diagnostic est le resultat des signes symptomes plus l'examen medical nootre prédiction sera basée sur les attributs 'PPOIDS', 'TEMPERATURE', 'S_M8_APPETIT', 'S_FATIGUE', \n",
    "'S_ARTHRALGI', 'S_T_DIGESTIF', 'S_VERTIGE', 'S_FRISSON', 'S_MYALGIE', 'S_DABDO', 'S_VOMISS', 'S_NAUSEE',\n",
    "'S_CEPHALE', 'S_FIEVRE','TDR'\n",
    "\n"
   ]
  },
  {
   "cell_type": "code",
   "execution_count": 15,
   "metadata": {},
   "outputs": [],
   "source": [
    "\n",
    "# Nous séparons notre jeu données palu en deux parties. Une partie pour entrainer X_train et un partie pour tester X_test\n",
    "# Nous séparons notre variable cible en deux parties. Une partie pour entrainer y_train et une partie pour tester y_test\n",
    "X = paluu\n",
    "y = palu['Diagnostic']\n",
    "X_train, X_test, y_train, y_test = train_test_split(X, y, random_state=0)"
   ]
  },
  {
   "cell_type": "code",
   "execution_count": 16,
   "metadata": {},
   "outputs": [
    {
     "data": {
      "text/plain": [
       "(15812,)"
      ]
     },
     "execution_count": 16,
     "metadata": {},
     "output_type": "execute_result"
    }
   ],
   "source": [
    "X_train.shape\n",
    "y_train.shape"
   ]
  },
  {
   "cell_type": "code",
   "execution_count": 17,
   "metadata": {},
   "outputs": [
    {
     "data": {
      "text/html": [
       "<div>\n",
       "<style scoped>\n",
       "    .dataframe tbody tr th:only-of-type {\n",
       "        vertical-align: middle;\n",
       "    }\n",
       "\n",
       "    .dataframe tbody tr th {\n",
       "        vertical-align: top;\n",
       "    }\n",
       "\n",
       "    .dataframe thead th {\n",
       "        text-align: right;\n",
       "    }\n",
       "</style>\n",
       "<table border=\"1\" class=\"dataframe\">\n",
       "  <thead>\n",
       "    <tr style=\"text-align: right;\">\n",
       "      <th></th>\n",
       "      <th>PPOIDS</th>\n",
       "      <th>TEMPERATURE</th>\n",
       "      <th>S_M8_APPETIT</th>\n",
       "      <th>S_FATIGUE</th>\n",
       "      <th>S_ARTHRALGI</th>\n",
       "      <th>S_T_DIGESTIF</th>\n",
       "      <th>S_VERTIGE</th>\n",
       "      <th>S_FRISSON</th>\n",
       "      <th>S_MYALGIE</th>\n",
       "      <th>S_DABDO</th>\n",
       "      <th>S_VOMISS</th>\n",
       "      <th>S_NAUSEE</th>\n",
       "      <th>S_CEPHALE</th>\n",
       "      <th>S_FIEVRE</th>\n",
       "      <th>TDR</th>\n",
       "    </tr>\n",
       "  </thead>\n",
       "  <tbody>\n",
       "    <tr>\n",
       "      <th>194</th>\n",
       "      <td>109</td>\n",
       "      <td>34</td>\n",
       "      <td>0</td>\n",
       "      <td>0</td>\n",
       "      <td>0</td>\n",
       "      <td>0</td>\n",
       "      <td>0</td>\n",
       "      <td>0</td>\n",
       "      <td>0</td>\n",
       "      <td>0</td>\n",
       "      <td>0</td>\n",
       "      <td>0</td>\n",
       "      <td>0</td>\n",
       "      <td>0</td>\n",
       "      <td>9</td>\n",
       "    </tr>\n",
       "    <tr>\n",
       "      <th>9889</th>\n",
       "      <td>118</td>\n",
       "      <td>37</td>\n",
       "      <td>0</td>\n",
       "      <td>0</td>\n",
       "      <td>0</td>\n",
       "      <td>0</td>\n",
       "      <td>0</td>\n",
       "      <td>0</td>\n",
       "      <td>0</td>\n",
       "      <td>0</td>\n",
       "      <td>0</td>\n",
       "      <td>0</td>\n",
       "      <td>0</td>\n",
       "      <td>0</td>\n",
       "      <td>9</td>\n",
       "    </tr>\n",
       "    <tr>\n",
       "      <th>6732</th>\n",
       "      <td>98</td>\n",
       "      <td>36</td>\n",
       "      <td>0</td>\n",
       "      <td>0</td>\n",
       "      <td>0</td>\n",
       "      <td>0</td>\n",
       "      <td>0</td>\n",
       "      <td>0</td>\n",
       "      <td>0</td>\n",
       "      <td>0</td>\n",
       "      <td>0</td>\n",
       "      <td>0</td>\n",
       "      <td>1</td>\n",
       "      <td>0</td>\n",
       "      <td>2</td>\n",
       "    </tr>\n",
       "    <tr>\n",
       "      <th>21078</th>\n",
       "      <td>92</td>\n",
       "      <td>36</td>\n",
       "      <td>0</td>\n",
       "      <td>0</td>\n",
       "      <td>0</td>\n",
       "      <td>0</td>\n",
       "      <td>0</td>\n",
       "      <td>0</td>\n",
       "      <td>0</td>\n",
       "      <td>0</td>\n",
       "      <td>0</td>\n",
       "      <td>0</td>\n",
       "      <td>0</td>\n",
       "      <td>0</td>\n",
       "      <td>9</td>\n",
       "    </tr>\n",
       "    <tr>\n",
       "      <th>9729</th>\n",
       "      <td>75</td>\n",
       "      <td>37</td>\n",
       "      <td>0</td>\n",
       "      <td>0</td>\n",
       "      <td>0</td>\n",
       "      <td>0</td>\n",
       "      <td>0</td>\n",
       "      <td>0</td>\n",
       "      <td>0</td>\n",
       "      <td>0</td>\n",
       "      <td>0</td>\n",
       "      <td>0</td>\n",
       "      <td>0</td>\n",
       "      <td>0</td>\n",
       "      <td>9</td>\n",
       "    </tr>\n",
       "  </tbody>\n",
       "</table>\n",
       "</div>"
      ],
      "text/plain": [
       "       PPOIDS  TEMPERATURE  S_M8_APPETIT  S_FATIGUE  S_ARTHRALGI  \\\n",
       "194       109           34             0          0            0   \n",
       "9889      118           37             0          0            0   \n",
       "6732       98           36             0          0            0   \n",
       "21078      92           36             0          0            0   \n",
       "9729       75           37             0          0            0   \n",
       "\n",
       "       S_T_DIGESTIF  S_VERTIGE  S_FRISSON  S_MYALGIE  S_DABDO  S_VOMISS  \\\n",
       "194               0          0          0          0        0         0   \n",
       "9889              0          0          0          0        0         0   \n",
       "6732              0          0          0          0        0         0   \n",
       "21078             0          0          0          0        0         0   \n",
       "9729              0          0          0          0        0         0   \n",
       "\n",
       "       S_NAUSEE  S_CEPHALE  S_FIEVRE  TDR  \n",
       "194           0          0         0    9  \n",
       "9889          0          0         0    9  \n",
       "6732          0          1         0    2  \n",
       "21078         0          0         0    9  \n",
       "9729          0          0         0    9  "
      ]
     },
     "execution_count": 17,
     "metadata": {},
     "output_type": "execute_result"
    }
   ],
   "source": [
    "X_train.head()"
   ]
  },
  {
   "cell_type": "markdown",
   "metadata": {},
   "source": [
    "# Construction  Model Regression logistique"
   ]
  },
  {
   "cell_type": "code",
   "execution_count": 18,
   "metadata": {},
   "outputs": [
    {
     "data": {
      "text/plain": [
       "LogisticRegression(C=1.0, class_weight=None, dual=False, fit_intercept=True,\n",
       "          intercept_scaling=1, max_iter=100, multi_class='ovr', n_jobs=1,\n",
       "          penalty='l2', random_state=0, solver='liblinear', tol=0.0001,\n",
       "          verbose=0, warm_start=False)"
      ]
     },
     "execution_count": 18,
     "metadata": {},
     "output_type": "execute_result"
    }
   ],
   "source": [
    "#Fit logistic regression to the training set\n",
    "palu_classifier = LogisticRegression(random_state=0)\n",
    "palu_classifier.fit(X_train, y_train)"
   ]
  },
  {
   "cell_type": "markdown",
   "metadata": {},
   "source": [
    "# Precision"
   ]
  },
  {
   "cell_type": "code",
   "execution_count": 19,
   "metadata": {},
   "outputs": [
    {
     "name": "stdout",
     "output_type": "stream",
     "text": [
      "[[5115    5]\n",
      " [ 130   21]]\n"
     ]
    }
   ],
   "source": [
    "#Calcule de la précision du modele\n",
    "palu_pred = palu_classifier.predict(X_test)\n",
    "from sklearn.metrics import confusion_matrix\n",
    "confusion_matrix = confusion_matrix(y_test, palu_pred)\n",
    "print(confusion_matrix)"
   ]
  },
  {
   "cell_type": "markdown",
   "metadata": {},
   "source": [
    "Le résultat nous indique que nous avons 5115 + 21 prédictions correctes c'est à dire que 5136 patient ont eu un diagnostic adéquates  et 130 + 5 malclassés c'est à direque 135 patients mal diagnostiqués."
   ]
  },
  {
   "cell_type": "code",
   "execution_count": 20,
   "metadata": {},
   "outputs": [
    {
     "name": "stdout",
     "output_type": "stream",
     "text": [
      "La precision de la regression logistique sur les données de test  : 97.44\n"
     ]
    }
   ],
   "source": [
    "print('La precision de la regression logistique sur les données de test  : {:.2f}'.format(palu_classifier.score(X_test, y_test)*100))"
   ]
  },
  {
   "cell_type": "code",
   "execution_count": 21,
   "metadata": {},
   "outputs": [],
   "source": [
    "# Calcul de la precision du recall, F-measure et support"
   ]
  },
  {
   "cell_type": "code",
   "execution_count": 22,
   "metadata": {},
   "outputs": [
    {
     "name": "stdout",
     "output_type": "stream",
     "text": [
      "             precision    recall  f1-score   support\n",
      "\n",
      "          0       0.98      1.00      0.99      5120\n",
      "          1       0.81      0.14      0.24       151\n",
      "\n",
      "avg / total       0.97      0.97      0.97      5271\n",
      "\n"
     ]
    }
   ],
   "source": [
    "from sklearn.metrics import classification_report\n",
    "print(classification_report(y_test, palu_pred))"
   ]
  },
  {
   "cell_type": "markdown",
   "metadata": {},
   "source": [
    " La précision est le rapport tp / (tp + fp) ou tp est le total des vraie positifs et fp le total des faux positifs.\n",
    " Ici il est donné par 5115/(5115+130)\n",
    " Le recall estle rapport  tp / (tp + fn)  ou tp est le total des vraie positifs et fn le ttotal des faux negatifs\n",
    " Ici il est donné par 5115/(5115+"
   ]
  },
  {
   "cell_type": "code",
   "execution_count": 23,
   "metadata": {},
   "outputs": [],
   "source": [
    "# Courbe ROC"
   ]
  },
  {
   "cell_type": "code",
   "execution_count": 24,
   "metadata": {},
   "outputs": [
    {
     "data": {
      "image/png": "[encoded data removed]",
      "text/plain": [
       "<Figure size 432x288 with 1 Axes>"
      ]
     },
     "metadata": {},
     "output_type": "display_data"
    }
   ],
   "source": [
    "from sklearn.metrics import roc_auc_score\n",
    "from sklearn.metrics import roc_curve\n",
    "logit_roc_auc = roc_auc_score(y_test, palu_classifier.predict(X_test))\n",
    "fpr, tpr, thresholds = roc_curve(y_test, palu_classifier.predict_proba(X_test)[:,1])\n",
    "plt.figure()\n",
    "plt.plot(fpr, tpr, label='Logistic Regression (area = %0.2f)' % logit_roc_auc)\n",
    "plt.plot([0, 1], [0, 1],'r--')\n",
    "plt.xlim([0.0, 1.0])\n",
    "plt.ylim([0.0, 1.05])\n",
    "plt.xlabel('False Positive Rate')\n",
    "plt.ylabel('True Positive Rate')\n",
    "plt.title('Receiver operating characteristic')\n",
    "plt.legend(loc=\"lower right\")\n",
    "plt.savefig('Log_ROC')\n",
    "plt.show()"
   ]
  },
  {
   "cell_type": "markdown",
   "metadata": {},
   "source": [
    " La ligne  rouge en pointillé représente la courbe ROC d'un classificateur purement aléatoire; \n",
    "On remarque que notre variable cible reste au dessus de cette ligne. Cependant la surface couvert est assez faible.\n",
    "Elle est de 0,57. Ce montre que notre prediction n'est pas très bonne malgré le taux de score très élevé\n",
    "tqui montre l'attribut Diagnostic est un \n"
   ]
  },
  {
   "cell_type": "markdown",
   "metadata": {},
   "source": [
    "# Conclusion"
   ]
  },
  {
   "cell_type": "markdown",
   "metadata": {},
   "source": [
    "Le score de notre prédiction est de 97,44. C'est à dire que nous pouvons dire avec une très grande Précision qu'un patient est atteint de paludisme ou non.\n",
    "Cependant les Données Etant très désiquibrées le score trouve ne me semble pas refleter la réalité. Aini il rusque de se produire ce qu'on appelle un vote majoritaire. C'est à dire que l'agorithme a tendence à prédire que tous les patients ne sont\n",
    "pas attent de paludisme car 0 est trop majoritaire \n",
    " Ainsi je propose d'utiliser le package imblearn de python pour éequilbrer les données et ensuite reprendre l'algorithme et comparer les scores obtenus"
   ]
  },
  {
   "cell_type": "markdown",
   "metadata": {},
   "source": [
    "# Suréchantillonnage avec l'algorithme  SMOTE\n",
    "Il consiste à céer u echantillon de données synthetiques apartir de la valeur dependante Diagnostic au lieu de faire des copies des valeurs existantes. Ensuite choisir au hasard l'un des k plus proches voisins et l'utiliser pour créer de nouvelles observations similaires, mais au hasard\n",
    "\n"
   ]
  },
  {
   "cell_type": "code",
   "execution_count": 25,
   "metadata": {},
   "outputs": [],
   "source": [
    "X1 = paluu\n",
    "y1 =palu['Diagnostic']\n",
    "from imblearn.over_sampling import SMOTE\n",
    "Re= SMOTE(random_state=0)\n",
    "X1_train, X1_test, y1_train, y1_test = train_test_split(X1, y1, test_size=0.3, random_state=0)\n",
    "columns = X1_train.columns\n",
    "Re_data_X1,Re_data_y1=Re.fit_sample(X1_train, y1_train)\n",
    "Re_data_X1 = pd.DataFrame(data=Re_data_X1,columns=columns )"
   ]
  },
  {
   "cell_type": "markdown",
   "metadata": {},
   "source": [
    "X1 = paluu\n",
    "y1 =palu['Diagnostic']\n",
    "from imblearn.over_sampling import SMOTE\n",
    "Re= SMOTE(random_state=0)\n",
    "X1_train, X1_test, y1_train, y1_test = train_test_split(X1, y1, test_size=0.3, random_state=0)\n",
    "columns = X1_train.columns\n",
    "Re_data_X1,Re_data_y1=os.fit_sample(X1_train, y1_train)\n",
    "Re_data_X1 = pd.DataFrame(data=os_data_X1,columns=columns )\n",
    "#os_data_y= pd.DataFrame(data=os_data_y,columns=['y'])\n"
   ]
  },
  {
   "cell_type": "code",
   "execution_count": 26,
   "metadata": {},
   "outputs": [
    {
     "data": {
      "text/html": [
       "<div>\n",
       "<style scoped>\n",
       "    .dataframe tbody tr th:only-of-type {\n",
       "        vertical-align: middle;\n",
       "    }\n",
       "\n",
       "    .dataframe tbody tr th {\n",
       "        vertical-align: top;\n",
       "    }\n",
       "\n",
       "    .dataframe thead th {\n",
       "        text-align: right;\n",
       "    }\n",
       "</style>\n",
       "<table border=\"1\" class=\"dataframe\">\n",
       "  <thead>\n",
       "    <tr style=\"text-align: right;\">\n",
       "      <th></th>\n",
       "      <th>PPOIDS</th>\n",
       "      <th>TEMPERATURE</th>\n",
       "      <th>S_M8_APPETIT</th>\n",
       "      <th>S_FATIGUE</th>\n",
       "      <th>S_ARTHRALGI</th>\n",
       "      <th>S_T_DIGESTIF</th>\n",
       "      <th>S_VERTIGE</th>\n",
       "      <th>S_FRISSON</th>\n",
       "      <th>S_MYALGIE</th>\n",
       "      <th>S_DABDO</th>\n",
       "      <th>S_VOMISS</th>\n",
       "      <th>S_NAUSEE</th>\n",
       "      <th>S_CEPHALE</th>\n",
       "      <th>S_FIEVRE</th>\n",
       "      <th>TDR</th>\n",
       "    </tr>\n",
       "  </thead>\n",
       "  <tbody>\n",
       "    <tr>\n",
       "      <th>0</th>\n",
       "      <td>79.0</td>\n",
       "      <td>39.0</td>\n",
       "      <td>0.0</td>\n",
       "      <td>0.0</td>\n",
       "      <td>0.0</td>\n",
       "      <td>0.0</td>\n",
       "      <td>0.0</td>\n",
       "      <td>0.0</td>\n",
       "      <td>0.0</td>\n",
       "      <td>0.0</td>\n",
       "      <td>0.0</td>\n",
       "      <td>0.0</td>\n",
       "      <td>1.0</td>\n",
       "      <td>0.0</td>\n",
       "      <td>9.0</td>\n",
       "    </tr>\n",
       "    <tr>\n",
       "      <th>1</th>\n",
       "      <td>125.0</td>\n",
       "      <td>37.0</td>\n",
       "      <td>0.0</td>\n",
       "      <td>0.0</td>\n",
       "      <td>0.0</td>\n",
       "      <td>0.0</td>\n",
       "      <td>0.0</td>\n",
       "      <td>0.0</td>\n",
       "      <td>0.0</td>\n",
       "      <td>0.0</td>\n",
       "      <td>0.0</td>\n",
       "      <td>0.0</td>\n",
       "      <td>0.0</td>\n",
       "      <td>0.0</td>\n",
       "      <td>9.0</td>\n",
       "    </tr>\n",
       "    <tr>\n",
       "      <th>2</th>\n",
       "      <td>83.0</td>\n",
       "      <td>35.0</td>\n",
       "      <td>0.0</td>\n",
       "      <td>0.0</td>\n",
       "      <td>0.0</td>\n",
       "      <td>0.0</td>\n",
       "      <td>0.0</td>\n",
       "      <td>0.0</td>\n",
       "      <td>0.0</td>\n",
       "      <td>0.0</td>\n",
       "      <td>0.0</td>\n",
       "      <td>0.0</td>\n",
       "      <td>1.0</td>\n",
       "      <td>0.0</td>\n",
       "      <td>9.0</td>\n",
       "    </tr>\n",
       "    <tr>\n",
       "      <th>3</th>\n",
       "      <td>11.0</td>\n",
       "      <td>37.0</td>\n",
       "      <td>0.0</td>\n",
       "      <td>0.0</td>\n",
       "      <td>0.0</td>\n",
       "      <td>0.0</td>\n",
       "      <td>0.0</td>\n",
       "      <td>0.0</td>\n",
       "      <td>0.0</td>\n",
       "      <td>0.0</td>\n",
       "      <td>0.0</td>\n",
       "      <td>0.0</td>\n",
       "      <td>1.0</td>\n",
       "      <td>0.0</td>\n",
       "      <td>9.0</td>\n",
       "    </tr>\n",
       "    <tr>\n",
       "      <th>4</th>\n",
       "      <td>74.0</td>\n",
       "      <td>38.0</td>\n",
       "      <td>0.0</td>\n",
       "      <td>0.0</td>\n",
       "      <td>0.0</td>\n",
       "      <td>0.0</td>\n",
       "      <td>0.0</td>\n",
       "      <td>0.0</td>\n",
       "      <td>0.0</td>\n",
       "      <td>0.0</td>\n",
       "      <td>0.0</td>\n",
       "      <td>0.0</td>\n",
       "      <td>0.0</td>\n",
       "      <td>0.0</td>\n",
       "      <td>9.0</td>\n",
       "    </tr>\n",
       "  </tbody>\n",
       "</table>\n",
       "</div>"
      ],
      "text/plain": [
       "   PPOIDS  TEMPERATURE  S_M8_APPETIT  S_FATIGUE  S_ARTHRALGI  S_T_DIGESTIF  \\\n",
       "0    79.0         39.0           0.0        0.0          0.0           0.0   \n",
       "1   125.0         37.0           0.0        0.0          0.0           0.0   \n",
       "2    83.0         35.0           0.0        0.0          0.0           0.0   \n",
       "3    11.0         37.0           0.0        0.0          0.0           0.0   \n",
       "4    74.0         38.0           0.0        0.0          0.0           0.0   \n",
       "\n",
       "   S_VERTIGE  S_FRISSON  S_MYALGIE  S_DABDO  S_VOMISS  S_NAUSEE  S_CEPHALE  \\\n",
       "0        0.0        0.0        0.0      0.0       0.0       0.0        1.0   \n",
       "1        0.0        0.0        0.0      0.0       0.0       0.0        0.0   \n",
       "2        0.0        0.0        0.0      0.0       0.0       0.0        1.0   \n",
       "3        0.0        0.0        0.0      0.0       0.0       0.0        1.0   \n",
       "4        0.0        0.0        0.0      0.0       0.0       0.0        0.0   \n",
       "\n",
       "   S_FIEVRE  TDR  \n",
       "0       0.0  9.0  \n",
       "1       0.0  9.0  \n",
       "2       0.0  9.0  \n",
       "3       0.0  9.0  \n",
       "4       0.0  9.0  "
      ]
     },
     "execution_count": 26,
     "metadata": {},
     "output_type": "execute_result"
    }
   ],
   "source": [
    "Re_data_X1.head()"
   ]
  },
  {
   "cell_type": "code",
   "execution_count": 27,
   "metadata": {},
   "outputs": [
    {
     "data": {
      "image/png": "[encoded data removed]",
      "text/plain": [
       "<Figure size 432x288 with 1 Axes>"
      ]
     },
     "metadata": {},
     "output_type": "display_data"
    }
   ],
   "source": [
    "sns.countplot(x=Re_data_y1, data=Re_data_X1)\n",
    "plt.show()"
   ]
  },
  {
   "cell_type": "markdown",
   "metadata": {},
   "source": [
    "On constate que les données sont maintenant équilibrées et l'independance des données est plus visible \n",
    "pour le nouveau jeu de données. "
   ]
  },
  {
   "cell_type": "code",
   "execution_count": 28,
   "metadata": {},
   "outputs": [
    {
     "data": {
      "image/png": "[encoded data removed]",
      "text/plain": [
       "<Figure size 432x288 with 2 Axes>"
      ]
     },
     "metadata": {},
     "output_type": "display_data"
    }
   ],
   "source": [
    "sns.heatmap(Re_data_X1.corr())\n",
    "plt.show()"
   ]
  },
  {
   "cell_type": "code",
   "execution_count": 29,
   "metadata": {},
   "outputs": [],
   "source": [
    "# Nous séparons notre jeu données palu en deux parties. Une partie pour entrainer X_train et un partie pour tester X_test\n",
    "# Nous séparons notre variable cible en deux parties. Une partie pour entrainer y_train et une partie pour tester y_test\n",
    "X = Re_data_X1\n",
    "y = Re_data_y1\n",
    "X_train, X_test, y_train, y_test = train_test_split(X, y, random_state=0)"
   ]
  },
  {
   "cell_type": "code",
   "execution_count": 30,
   "metadata": {},
   "outputs": [
    {
     "data": {
      "text/plain": [
       "LogisticRegression(C=1.0, class_weight=None, dual=False, fit_intercept=True,\n",
       "          intercept_scaling=1, max_iter=100, multi_class='ovr', n_jobs=1,\n",
       "          penalty='l2', random_state=0, solver='liblinear', tol=0.0001,\n",
       "          verbose=0, warm_start=False)"
      ]
     },
     "execution_count": 30,
     "metadata": {},
     "output_type": "execute_result"
    }
   ],
   "source": [
    "#Fit logistic regression to the training set\n",
    "palu_classifier = LogisticRegression(random_state=0)\n",
    "palu_classifier.fit(X_train, y_train)"
   ]
  },
  {
   "cell_type": "code",
   "execution_count": 31,
   "metadata": {},
   "outputs": [
    {
     "name": "stdout",
     "output_type": "stream",
     "text": [
      "[[3231  347]\n",
      " [ 488 3101]]\n"
     ]
    }
   ],
   "source": [
    "palu_pred = palu_classifier.predict(X_test)\n",
    "from sklearn.metrics import confusion_matrix\n",
    "confusion_matrix = confusion_matrix(y_test, palu_pred)\n",
    "print(confusion_matrix)"
   ]
  },
  {
   "cell_type": "code",
   "execution_count": 32,
   "metadata": {},
   "outputs": [
    {
     "name": "stdout",
     "output_type": "stream",
     "text": [
      "             precision    recall  f1-score   support\n",
      "\n",
      "          0       0.87      0.90      0.89      3578\n",
      "          1       0.90      0.86      0.88      3589\n",
      "\n",
      "avg / total       0.88      0.88      0.88      7167\n",
      "\n"
     ]
    }
   ],
   "source": [
    "from sklearn.metrics import classification_report\n",
    "print(classification_report(y_test, palu_pred))"
   ]
  },
  {
   "cell_type": "code",
   "execution_count": 33,
   "metadata": {},
   "outputs": [
    {
     "name": "stdout",
     "output_type": "stream",
     "text": [
      "La precision de la regression logistique sur les données de test  : 88.35\n"
     ]
    }
   ],
   "source": [
    "print('La precision de la regression logistique sur les données de test  : {:.2f}'.format(palu_classifier.score(X_test, y_test)*100))"
   ]
  },
  {
   "cell_type": "code",
   "execution_count": 34,
   "metadata": {},
   "outputs": [
    {
     "data": {
      "image/png": "[encoded data removed]",
      "text/plain": [
       "<Figure size 432x288 with 1 Axes>"
      ]
     },
     "metadata": {},
     "output_type": "display_data"
    }
   ],
   "source": [
    "from sklearn.metrics import roc_auc_score\n",
    "from sklearn.metrics import roc_curve\n",
    "logit_roc_auc = roc_auc_score(y_test, palu_classifier.predict(X_test))\n",
    "fpr, tpr, thresholds = roc_curve(y_test, palu_classifier.predict_proba(X_test)[:,1])\n",
    "plt.figure()\n",
    "plt.plot(fpr, tpr, label='Logistic Regression (area = %0.2f)' % logit_roc_auc)\n",
    "plt.plot([0, 1], [0, 1],'r--')\n",
    "plt.xlim([0.0, 1.0])\n",
    "plt.ylim([0.0, 1.05])\n",
    "plt.xlabel('False Positive Rate')\n",
    "plt.ylabel('True Positive Rate')\n",
    "plt.title('Courbe ROC')\n",
    "plt.legend(loc=\"lower right\")\n",
    "plt.savefig('Log_ROC')\n",
    "plt.show()"
   ]
  },
  {
   "cell_type": "markdown",
   "metadata": {},
   "source": [
    "# Conclusion"
   ]
  },
  {
   "cell_type": "markdown",
   "metadata": {},
   "source": [
    "On constate que le score  à diminué après avoir réequilibrér les donnéées. Cependant ce nouveau score me \n",
    "semble etre plus coherent.\n",
    " En effet nn voie aussi que la courbe ROC est plus lisse et que la surface couvert par notre predicteur croit aussi.\n",
    "Elle passe de 0,57 à 0.88\n"
   ]
  },
  {
   "cell_type": "markdown",
   "metadata": {},
   "source": [
    "# NOTE\n"
   ]
  },
  {
   "cell_type": "markdown",
   "metadata": {},
   "source": [
    "Pour améliorer ce score nous pourrrons ajouter un coefficient de correction qui sera  basé sur les attributs \n",
    "Adrresse et deces par exemple.\n",
    "En effet deux patients habitant des localites différentes par exemple Dakar et Kaolack peuvent avoir les \n",
    "memes signes (température) sans autant qu'ils soient tous atteint de paludisme. Pour prendre en compte  cette difference  \n",
    "de température entre Dakar et kaolack je pense que nous pourrons utiliser le taux palustre dans chaque region comme \n",
    "coefficient de correction. Pour ce qui concerne l'attribut Deces le taux de morbité du paludisme peut etre un bon regulateur\n"
   ]
  },
  {
   "cell_type": "markdown",
   "metadata": {},
   "source": [
    "# SVM avec kernel=sigmoid"
   ]
  },
  {
   "cell_type": "code",
   "execution_count": 35,
   "metadata": {},
   "outputs": [
    {
     "name": "stdout",
     "output_type": "stream",
     "text": [
      "[[2853    0]\n",
      " [2881    0]]\n",
      "             precision    recall  f1-score   support\n",
      "\n",
      "          0       0.50      1.00      0.66      2853\n",
      "          1       0.00      0.00      0.00      2881\n",
      "\n",
      "avg / total       0.25      0.50      0.33      5734\n",
      "\n"
     ]
    },
    {
     "name": "stderr",
     "output_type": "stream",
     "text": [
      "C:\\Users\\ndogue85\\Anaconda3\\lib\\site-packages\\sklearn\\metrics\\classification.py:1135: UndefinedMetricWarning: Precision and F-score are ill-defined and being set to 0.0 in labels with no predicted samples.\n",
      "  'precision', 'predicted', average, warn_for)\n"
     ]
    }
   ],
   "source": [
    "dt1 = Re_data_X1\n",
    "y1 = Re_data_y1\n",
    "from sklearn.model_selection import train_test_split\n",
    "dt1_train,dt1_test,y_train,y_test=train_test_split(dt1,y1, test_size=0.20)\n",
    "from sklearn.svm import SVC  \n",
    "svclassifier = SVC(kernel='sigmoid')  \n",
    "svclassifier.fit(dt1_train, y_train)  \n",
    "y_pred = svclassifier.predict(dt1_test)  \n",
    "from sklearn.metrics import classification_report, confusion_matrix  \n",
    "print(confusion_matrix(y_test, y_pred))  \n",
    "print(classification_report(y_test, y_pred))\n"
   ]
  },
  {
   "cell_type": "markdown",
   "metadata": {},
   "source": [
    "# SVM avec kernel=gaussien"
   ]
  },
  {
   "cell_type": "code",
   "execution_count": 36,
   "metadata": {},
   "outputs": [
    {
     "name": "stdout",
     "output_type": "stream",
     "text": [
      "[[2835   43]\n",
      " [ 345 2511]]\n",
      "             precision    recall  f1-score   support\n",
      "\n",
      "          0       0.89      0.99      0.94      2878\n",
      "          1       0.98      0.88      0.93      2856\n",
      "\n",
      "avg / total       0.94      0.93      0.93      5734\n",
      "\n"
     ]
    }
   ],
   "source": [
    "dt1 = Re_data_X1\n",
    "y1 = Re_data_y1\n",
    "from sklearn.model_selection import train_test_split\n",
    "dt1_train,dt1_test,y_train,y_test=train_test_split(dt1,y1, test_size=0.20)\n",
    "from sklearn.svm import SVC  \n",
    "svclassifier = SVC(kernel='rbf')  \n",
    "svclassifier.fit(dt1_train, y_train)  \n",
    "y_pred = svclassifier.predict(dt1_test)  \n",
    "from sklearn.metrics import classification_report, confusion_matrix  \n",
    "print(confusion_matrix(y_test, y_pred))  \n",
    "print(classification_report(y_test, y_pred))"
   ]
  },
  {
   "cell_type": "markdown",
   "metadata": {},
   "source": [
    "# SVM avec kernel=polynom"
   ]
  },
  {
   "cell_type": "code",
   "execution_count": 37,
   "metadata": {},
   "outputs": [
    {
     "name": "stdout",
     "output_type": "stream",
     "text": [
      "[[2632  264]\n",
      " [ 378 2460]]\n",
      "             precision    recall  f1-score   support\n",
      "\n",
      "          0       0.87      0.91      0.89      2896\n",
      "          1       0.90      0.87      0.88      2838\n",
      "\n",
      "avg / total       0.89      0.89      0.89      5734\n",
      "\n"
     ]
    }
   ],
   "source": [
    "dt1 = Re_data_X1\n",
    "y1 = Re_data_y1\n",
    "from sklearn.model_selection import train_test_split\n",
    "dt1_train,dt1_test,y_train,y_test=train_test_split(dt1,y1, test_size=0.20)\n",
    "from sklearn.svm import SVC  \n",
    "svclassifier = SVC(kernel='linear')  \n",
    "svclassifier.fit(dt1_train, y_train)  \n",
    "y_pred = svclassifier.predict(dt1_test)  \n",
    "from sklearn.metrics import classification_report, confusion_matrix  \n",
    "print(confusion_matrix(y_test, y_pred))  \n",
    "print(classification_report(y_test, y_pred))"
   ]
  },
  {
   "cell_type": "code",
   "execution_count": null,
   "metadata": {},
   "outputs": [],
   "source": []
  }
 ],
 "metadata": {
  "kernelspec": {
   "display_name": "Python 3",
   "language": "python",
   "name": "python3"
  },
  "language_info": {
   "codemirror_mode": {
    "name": "ipython",
    "version": 3
   },
   "file_extension": ".py",
   "mimetype": "text/x-python",
   "name": "python",
   "nbconvert_exporter": "python",
   "pygments_lexer": "ipython3",
   "version": "3.7.4"
  }
 },
 "nbformat": 4,
 "nbformat_minor": 2
}
